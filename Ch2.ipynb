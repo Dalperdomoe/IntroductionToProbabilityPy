{
 "cells": [
  {
   "cell_type": "markdown",
   "metadata": {},
   "source": [
    "# Chapter 2: Conditional probability\n",
    " \n",
    "This Jupyter notebook is the Python equivalent of the R code in section 2.10 R, [Introduction to Probability, 1st Edition](https://www.crcpress.com/Introduction-to-Probability/Blitzstein-Hwang/p/book/9781466575578), Blitzstein & Hwang.\n",
    "\n",
    "----"
   ]
  },
  {
   "cell_type": "code",
   "execution_count": 1,
   "metadata": {
    "collapsed": true
   },
   "outputs": [],
   "source": [
    "import numpy as np\n",
    "\n",
    "np.random.seed(123)"
   ]
  },
  {
   "cell_type": "markdown",
   "metadata": {},
   "source": [
    "## Simulating the frequentist interpretation \n",
    "\n",
    "Recall that the frequentist interpretation of conditional probability based on a large number `n` of repetitions of an experiment is $P(A|B) ≈ n_{AB}/n_{B}$, where $n_{AB}$ is the number of times that $A \\cap B$ occurs and $n_{B}$ is the number of times that $B$ occurs. Let's try this out by simulation, and verify the results of Example 2.2.5. So let's use [`numpy.random.choice`](https://docs.scipy.org/doc/numpy-1.15.0/reference/generated/numpy.random.choice.html) to simulate `n` families, each with two children."
   ]
  },
  {
   "cell_type": "code",
   "execution_count": 2,
   "metadata": {},
   "outputs": [
    {
     "data": {
      "text/plain": [
       "array([1, 2, 1, ..., 2, 1, 1])"
      ]
     },
     "execution_count": 2,
     "metadata": {},
     "output_type": "execute_result"
    }
   ],
   "source": [
    "n = 10**5\n",
    "child1 = np.random.choice([1,2], n, replace=True) \n",
    "child2 = np.random.choice([1,2], n, replace=True) \n",
    "\n",
    "child1"
   ]
  },
  {
   "cell_type": "markdown",
   "metadata": {},
   "source": [
    "Here `child1` is a Numpy `array` of length `n`, where each element is a 1 or a 2. Letting 1 stand for \"girl\" and 2 stand for \"boy\", this `array` represents the gender of the elder child in each of the `n` families. Similarly, `child2` represents the gender of the younger child in each family. \n",
    "\n",
    "Alternatively, we could have used"
   ]
  },
  {
   "cell_type": "code",
   "execution_count": 3,
   "metadata": {},
   "outputs": [
    {
     "data": {
      "text/plain": [
       "array(['boy', 'boy', 'girl', ..., 'girl', 'boy', 'boy'],\n",
       "      dtype='<U4')"
      ]
     },
     "execution_count": 3,
     "metadata": {},
     "output_type": "execute_result"
    }
   ],
   "source": [
    "np.random.choice([\"girl\", \"boy\"], n, replace=True)"
   ]
  },
  {
   "cell_type": "markdown",
   "metadata": {},
   "source": [
    "but it is more convenient working with numerical values.\n",
    "\n",
    "Let $A$ be the event that both children are girls and $B$ the event that the elder is a girl. Following the frequentist interpretation, we count the number of repetitions where $B$ occurred and name it `n_b`, and we also count the number of repetitions where $A \\cap B$ occurred and name it `n_ab`. Finally, we divide `n_ab` by ` n_b` to approximate $P(A|B)$."
   ]
  },
  {
   "cell_type": "code",
   "execution_count": 4,
   "metadata": {},
   "outputs": [
    {
     "name": "stdout",
     "output_type": "stream",
     "text": [
      "P(both girls | elder is girl) = 0.50\n"
     ]
    }
   ],
   "source": [
    "n_b = np.sum(child1==1)\n",
    "n_ab = np.sum((child1==1) & (child2==1))\n",
    "\n",
    "print('P(both girls | elder is girl) = {:0.2F}'.format(n_ab / n_b))"
   ]
  },
  {
   "cell_type": "markdown",
   "metadata": {},
   "source": [
    "The ampersand `&` is an elementwise $AND$, so `n_ab` is the number of families where both the first child and the second child are girls. When we ran this code, we got 0.50, confirming our answer $P(\\text{both girls | elder is a girl}) = 1/2$. \n",
    "\n",
    "Now let $A$ be the event that both children are girls and $B$ the event that at least one of the children is a girl. Then $A \\cap B$ is the same, but `n_b` needs to count the number of families where at least one child is a girl. This is accomplished with the elementwise $OR$ operator `|` (this is not a conditioning bar; it is an inclusive $OR$, returning `True` if at least one element is `True`)."
   ]
  },
  {
   "cell_type": "code",
   "execution_count": 5,
   "metadata": {},
   "outputs": [
    {
     "name": "stdout",
     "output_type": "stream",
     "text": [
      "P(both girls | at least one girl) = 0.34\n"
     ]
    }
   ],
   "source": [
    "n_b = np.sum((child1==1) | (child2==2))\n",
    "n_ab = np.sum((child1==1) & (child2==1))\n",
    "\n",
    "print('P(both girls | at least one girl) = {:0.2F}'.format(n_ab / n_b))"
   ]
  },
  {
   "cell_type": "markdown",
   "metadata": {},
   "source": [
    "For us, the result was 0.33, confirming that $P(\\text{both girls | at least one girl}) = 1/3$."
   ]
  },
  {
   "cell_type": "markdown",
   "metadata": {},
   "source": [
    "## Monty Hall simulation\n",
    "\n",
    "Many long, bitter debates about the Monty Hall problem could have been averted by trying it out with a simulation. To study how well the never-switch strategy performs, let's generate $10^{5}$ runs of the Monty Hall game. To simplify notation, assume the contestant always chooses door 1. Then we can generate a vector specifying which door has the car for each repetition:\n"
   ]
  },
  {
   "cell_type": "code",
   "execution_count": 6,
   "metadata": {},
   "outputs": [
    {
     "name": "stdout",
     "output_type": "stream",
     "text": [
      "The never-switch strategy has success rate 0.334\n"
     ]
    }
   ],
   "source": [
    "n = 10**5\n",
    "cardoor = np.random.choice([1,2,3] , n, replace=True)\n",
    "\n",
    "print('The never-switch strategy has success rate {:.3F}'.format(np.sum(cardoor==1) / n))"
   ]
  },
  {
   "cell_type": "markdown",
   "metadata": {},
   "source": [
    "At this point we could generate the vector specifying which doors Monty opens, but that's unnecessary since the never-switch strategy succeeds if and only if door 1 has the car! So the fraction of times when the never-switch strategy succeeds is `numpy.sum(cardoor==1)/n`, which was 0.334 in our simulation. This is very close to 1/3.\n",
    "\n",
    "What if we want to play the Monty Hall game interactively? We can do this by programming a Python class that would let us play interactively or let us run a simulation across many trials."
   ]
  },
  {
   "cell_type": "code",
   "execution_count": 7,
   "metadata": {
    "collapsed": true
   },
   "outputs": [],
   "source": [
    "class Monty():\n",
    "    \n",
    "    def __init__(self):\n",
    "        \"\"\" Object creation function. \"\"\"\n",
    "        self.state = 0\n",
    "        self.doors = np.array([1, 2, 3])\n",
    "        self.prepare_game()\n",
    "\n",
    "    def get_success_rate(self):\n",
    "        \"\"\" Return the rate of success in this series of plays: num. wins / num. plays. \"\"\"\n",
    "        if self.num_plays > 0:\n",
    "            return 1.0*self.num_wins / self.num_plays\n",
    "        else:\n",
    "            return 0.0\n",
    "\n",
    "    def prepare_game(self):\n",
    "        \"\"\" Prepare initial values for game play, and randonly choose the door with the car. \"\"\"\n",
    "        self.num_plays = 0\n",
    "        self.num_wins = 0\n",
    "        self.cardoor = np.random.choice(self.doors)\n",
    "        self.players_choice = None\n",
    "        self.montys_choice = None\n",
    "       \n",
    "    def choose_door(self, door):\n",
    "        \"\"\" Player chooses a door at state 0. Monty will choose a remaining door to reveal a goat. \"\"\"\n",
    "        self.state = 1\n",
    "        self.players_choice = door\n",
    "        self.montys_choice = np.random.choice(self.doors[(self.doors!=self.players_choice) & (self.doors!=self.cardoor)])\n",
    "        \n",
    "    def switch_door(self, do_switch):\n",
    "        \"\"\" Player has the option to switch from the door she has chosen to the remaining unopened door. \n",
    "        \n",
    "            If the door the player has selected is the same as the cardoor, then num. of wins is incremented.\n",
    "            \n",
    "            Finally, number of plays will be incremented.\n",
    "        \"\"\"\n",
    "        self.state = 2\n",
    "        if do_switch:\n",
    "            self.players_choice = self.doors[(self.doors!=self.players_choice) & (self.doors!=self.montys_choice)][0]\n",
    "        if self.players_choice == self.cardoor:\n",
    "            self.num_wins += 1\n",
    "        self.num_plays += 1\n",
    "        \n",
    "    def continue_play(self):\n",
    "        \"\"\" Player opts to continue playing in this series. \n",
    "        \n",
    "            The game is returned to state 0, but the counters for num. wins and num. plays\n",
    "            will be kept intact and running.\n",
    "            \n",
    "            A new cardoor is randomly chosen.\n",
    "        \"\"\"\n",
    "        self.state = 0\n",
    "        self.cardoor = np.random.choice(self.doors)\n",
    "        self.players_choice = None\n",
    "        self.montys_choice = None\n",
    "            \n",
    "    def reset(self):\n",
    "        \"\"\" The entire game state is returned to its initial state. \n",
    "        \n",
    "            All counters and variable holdling state are re-initialized.\n",
    "        \"\"\"\n",
    "        self.state = 0\n",
    "        self.prepare_game()"
   ]
  },
  {
   "cell_type": "markdown",
   "metadata": {},
   "source": [
    "In brief:\n",
    "* The `Monty` class represents a simple state model for the game.\n",
    "* When an instance of the `Monty` game is created, game state-holding variables are initialized and a `cardoor` randomly chosen.\n",
    "* After the player initially picks a door, `Monty` will choose a remaining door that does not have car behind it.\n",
    "* The player can then choose to switch to the other, remaining unopened door, or stick with her initial choice.\n",
    "* `Monty` will then see if the player wins or not, and updates the state-holding variables for num. wins and num. plays.\n",
    "* The player can continue playing, or stop and reset the game to its original state.\n",
    "\n",
    "### As a short simulation program\n",
    "\n",
    "Here is an example showing how to use the `Monty` class above to run a simulation to see how often the switching strategy succeeds."
   ]
  },
  {
   "cell_type": "code",
   "execution_count": 8,
   "metadata": {},
   "outputs": [
    {
     "name": "stdout",
     "output_type": "stream",
     "text": [
      "In 100000 trials, the switching strategy won 66821 times.\n",
      "Success rate is 0.668\n"
     ]
    }
   ],
   "source": [
    "trials = 10**5\n",
    "\n",
    "game = Monty()\n",
    "for _ in range(trials):\n",
    "    game.choose_door(np.random.choice([1,2,3]))\n",
    "    game.switch_door(True)\n",
    "    game.continue_play()\n",
    "\n",
    "print('In {} trials, the switching strategy won {} times.'.format(game.num_plays, game.num_wins))\n",
    "print('Success rate is {:.3f}'.format(game.get_success_rate()))"
   ]
  },
  {
   "cell_type": "markdown",
   "metadata": {},
   "source": [
    "### As an interactive widget in this Jupyter notebook\n",
    "\n",
    "Optionally, the `Monty` Python class above can also be used as an engine to power an interactive widget that lets you play the three-door game _in the browser_ using [`ipywidgets` ](https://ipywidgets.readthedocs.io/en/stable/user_guide.html).\n",
    "\n",
    "To run the interactive widget, make sure you have the `ipywidgets` package installed.\n",
    "\n",
    "Then for each of the code blocks that follow, select and convert from \"raw NBConvert\" to \"code\" using the combo-box in the toolbar of this notebook, or alternately use Cell > Cell Type > Code from the top menu. Hit `shift` + `Enter` to execute the code blocks."
   ]
  },
  {
   "cell_type": "code",
   "execution_count": 16,
   "metadata": {
    "collapsed": true
   },
   "outputs": [],
   "source": [
    "from ipywidgets import Box, Button, ButtonStyle, FloatText, GridBox, IntText, Label, Layout, HBox\n",
    "from IPython.display import display"
   ]
  },
  {
   "cell_type": "markdown",
   "metadata": {},
   "source": [
    "The doors in the game are represented by [`ipywidgets.Button`](https://ipywidgets.readthedocs.io/en/stable/examples/Widget%20List.html#Button)."
   ]
  },
  {
   "cell_type": "code",
   "execution_count": 17,
   "metadata": {
    "collapsed": true
   },
   "outputs": [],
   "source": [
    "door1  = Button(description='Door 1', layout=Layout(flex='1 1 auto', width='auto'))\n",
    "door2  = Button(description='Door 2', layout=door1.layout)\n",
    "door3  = Button(description='Door 3', layout=door1.layout)\n",
    "doors_arr = [door1, door2, door3]\n",
    "doors  = Box(doors_arr, layout=Layout(width='auto', grid_area='doors'))"
   ]
  },
  {
   "cell_type": "markdown",
   "metadata": {},
   "source": [
    "State-holding variables in the `Monty` object are displayed using [`ipywidgets.IntText`](https://ipywidgets.readthedocs.io/en/stable/examples/Widget%20List.html#IntText) (for the `num_wins` and `num_plays`); and [`ipywidgets.FloatText`](https://ipywidgets.readthedocs.io/en/stable/examples/Widget%20List.html#FloatText) (for the success rate)."
   ]
  },
  {
   "cell_type": "code",
   "execution_count": 18,
   "metadata": {
    "collapsed": true
   },
   "outputs": [],
   "source": [
    "label1 = Label(value='number of plays', layout=Layout(width='auto', grid_area='label1'))\n",
    "text1  = IntText(disabled=True, layout=Layout(width='auto', grid_area='text1'))\n",
    "\n",
    "label2 = Label(value='number of wins', layout=Layout(width='auto', grid_area='label2'))\n",
    "text2  = IntText(disabled=True, layout=Layout(width='auto', grid_area='text2'))\n",
    "\n",
    "label3 = Label(value='success rate', layout=Layout(width='auto', grid_area='label3'))\n",
    "text3  = FloatText(disabled=True, layout=Layout(width='auto', grid_area='text3'))"
   ]
  },
  {
   "cell_type": "markdown",
   "metadata": {},
   "source": [
    "[`ipywidgets.Label`](https://ipywidgets.readthedocs.io/en/stable/examples/Widget%20List.html#Label) is used to display the title and descriptive text in the game widget."
   ]
  },
  {
   "cell_type": "code",
   "execution_count": 19,
   "metadata": {
    "collapsed": true
   },
   "outputs": [],
   "source": [
    "banner = Box([Label(value='Interactive widget: Monty Hall problem', \n",
    "                    layout=Layout(width='50%'))], \n",
    "             layout=Layout(width='auto', justify_content='center', grid_area='banner'))\n",
    "\n",
    "status = Label(value='Pick a door...', layout=Layout(width='auto', grid_area='status'))"
   ]
  },
  {
   "cell_type": "markdown",
   "metadata": {},
   "source": [
    "Buttons allowing for further user actions are located at the bottom of the widget.\n",
    "\n",
    "* The `reveal` button is used to show what's behind all of the doors after the player makes her final choice.\n",
    "* After the player completes a round of play, she can click the `continue` button to keep counting game state (num. wins and num. plays)\n",
    "* The `reset` button lets the player return the game to its original state after completing a round of play."
   ]
  },
  {
   "cell_type": "code",
   "execution_count": 20,
   "metadata": {
    "collapsed": true
   },
   "outputs": [],
   "source": [
    "button_layout = Layout(flex='1 1 auto', width='auto')\n",
    "reveal = Button(description='reveal', tooltip='open selected door', layout=button_layout, disabled=True)\n",
    "contin = Button(description='continue', tooltip='continue play', layout=button_layout, disabled=True)\n",
    "reset  = Button(description='reset', tooltip='reset game', layout=button_layout, disabled=False)\n",
    "actions  = Box([reveal, contin, reset], layout=Layout(width='auto', grid_area='actions'))"
   ]
  },
  {
   "cell_type": "markdown",
   "metadata": {},
   "source": [
    "[`ipywidgets.GridBox`](https://ipywidgets.readthedocs.io/en/stable/examples/Widget%20Styling.html#The-Grid-layout) helps us lay out the user interface elements for the `Monty` game widget."
   ]
  },
  {
   "cell_type": "code",
   "execution_count": 21,
   "metadata": {
    "collapsed": true
   },
   "outputs": [],
   "source": [
    "ui = GridBox(children=[banner, doors, label1, text1, label2, text2, label3, text3, status, actions],\n",
    "        layout=Layout(\n",
    "            width='50%',\n",
    "            grid_template_rows='auto auto auto auto auto auto auto',\n",
    "            grid_template_columns='25% 25% 25% 25%',\n",
    "            grid_template_areas='''\n",
    "                \"banner banner banner banner\"\n",
    "                \"doors doors doors doors\"\n",
    "                \"label1 label1 text1 text1\"\n",
    "                \"label2 label2 text2 text2\"\n",
    "                \"label3 label3 text3 text3\"\n",
    "                \"status status status status\"\n",
    "                \". . actions actions\"\n",
    "            '''\n",
    "        )\n",
    ")"
   ]
  },
  {
   "cell_type": "markdown",
   "metadata": {},
   "source": [
    "We lastly create some functions to connect the widget to the `Monty` game object. These functions adapt player action [events](https://ipywidgets.readthedocs.io/en/stable/examples/Widget%20Events.html#Example) to state changes in the `Monty` object, and then update the widget user interface accordingly."
   ]
  },
  {
   "cell_type": "code",
   "execution_count": 22,
   "metadata": {},
   "outputs": [
    {
     "data": {
      "application/vnd.jupyter.widget-view+json": {
       "model_id": "f81298ef50f742db965a2248bc2ab5a3",
       "version_major": 2,
       "version_minor": 0
      },
      "text/plain": [
       "GridBox(children=(Box(children=(Label(value='Interactive widget: Monty Hall problem', layout=Layout(width='50%…"
      ]
     },
     "metadata": {},
     "output_type": "display_data"
    }
   ],
   "source": [
    "uigame = Monty()\n",
    "\n",
    "def reset_ui():\n",
    "    \"\"\" Return widget elements to their initial state. \"\"\"\n",
    "    for i,d in enumerate(doors_arr):\n",
    "        d.description = 'Door {}'.format(i+1)\n",
    "        d.disabled = False\n",
    "        d.icon = ''\n",
    "        d.button_style = ''\n",
    "            \n",
    "    reveal.disabled = True\n",
    "    contin.disabled = True\n",
    "    reset.disabled = False\n",
    "    \n",
    "def update_status(new_status):\n",
    "    \"\"\" Update the widget text fields for displaying present game status. \"\"\"\n",
    "    text1.value = uigame.num_plays\n",
    "    text2.value = uigame.num_wins\n",
    "    text3.value = uigame.get_success_rate()\n",
    "    status.value = new_status\n",
    "    \n",
    "def update_ui_reveal():\n",
    "    \"\"\" Helper function to update the widget after the player clicks the reveal button. \"\"\"\n",
    "    if uigame.players_choice == uigame.cardoor:\n",
    "        new_status = 'You win! Continue playing?'\n",
    "    else:\n",
    "        new_status = 'Sorry, you lose. Continue playing?'\n",
    "\n",
    "    for i,d in enumerate(doors_arr):\n",
    "        d.disabled = True\n",
    "        if uigame.cardoor == i+1:\n",
    "            d.description = 'car'\n",
    "        else:\n",
    "            d.description = 'goat'\n",
    "        if uigame.players_choice == i+1:\n",
    "            if uigame.players_choice == uigame.cardoor:\n",
    "                d.button_style = 'success'   \n",
    "                d.icon = 'check'\n",
    "            else:\n",
    "                d.button_style = 'danger' \n",
    "                d.icon = 'times'\n",
    "    update_status(new_status)\n",
    "    reveal.disabled = True\n",
    "    contin.disabled = False\n",
    "    reset.disabled = False    \n",
    "    \n",
    "def on_button_clicked(b):  \n",
    "    \"\"\"  Event-handling function that maps button click events in the widget \n",
    "         to corresponding functions in Monty, and updates the user interface\n",
    "         according to the present game state.\n",
    "    \"\"\"\n",
    "    if uigame.state == 0:\n",
    "        if b.description in ['Door 1', 'Door 2', 'Door 3']:\n",
    "            c = int(b.description.split()[1])\n",
    "            uigame.choose_door(c)\n",
    "\n",
    "            b.disabled = True\n",
    "            b.button_style = 'info'\n",
    "\n",
    "            m = doors_arr[uigame.montys_choice-1]\n",
    "            m.disabled = True\n",
    "            m.description = 'goat'\n",
    "\n",
    "            unopened = uigame.doors[(uigame.doors != uigame.players_choice) &\n",
    "                                        (uigame.doors != uigame.montys_choice)][0]\n",
    "            status.value = 'Monty reveals a goat behind Door {}. Click Door {} to switch, or \\'reveal\\' Door {}.' \\\n",
    "                            .format(uigame.montys_choice, unopened, uigame.players_choice)\n",
    "\n",
    "            reveal.disabled = False\n",
    "            reset.disabled = False\n",
    "        elif b.description == 'reset':\n",
    "                uigame.reset()\n",
    "                reset_ui()\n",
    "                update_status('Pick a door...')    \n",
    "    elif uigame.state == 1:\n",
    "        if b.description in ['Door 1', 'Door 2', 'Door 3']:\n",
    "            prev_choice = uigame.players_choice\n",
    "            uigame.switch_door(True)\n",
    "            \n",
    "            pb = doors_arr[prev_choice-1]\n",
    "            pb.icon = ''\n",
    "            pb.button_style = ''\n",
    "            \n",
    "            b.disabled = True\n",
    "            b.button_style = 'info'\n",
    "            \n",
    "            status.value = 'Now click \\'reveal\\' to see what\\'s behind Door {}.'.format(uigame.players_choice)\n",
    "            \n",
    "        elif b.description == 'reset':\n",
    "            uigame.reset()\n",
    "            reset_ui()\n",
    "            update_status('Pick a door...')\n",
    "        elif b.description == 'reveal':\n",
    "            uigame.switch_door(False)\n",
    "            update_ui_reveal()\n",
    "    elif uigame.state == 2:\n",
    "        if b.description == 'reveal':\n",
    "            update_ui_reveal()  \n",
    "        else:            \n",
    "            if b.description == 'continue':\n",
    "                uigame.continue_play()\n",
    "                reset_ui()\n",
    "                update_status('Pick a door once more...')\n",
    "            elif b.description == 'reset':\n",
    "                uigame.reset()\n",
    "                reset_ui()\n",
    "                update_status('Pick a door...')\n",
    "\n",
    "# hook up all buttons to our event-handling function\n",
    "door1.on_click(on_button_clicked)\n",
    "door2.on_click(on_button_clicked)\n",
    "door3.on_click(on_button_clicked)\n",
    "reveal.on_click(on_button_clicked)\n",
    "contin.on_click(on_button_clicked)\n",
    "reset.on_click(on_button_clicked)\n",
    "\n",
    "display(ui)"
   ]
  },
  {
   "cell_type": "markdown",
   "metadata": {},
   "source": [
    "How to play:\n",
    "* Click a door to select.\n",
    "* Monty will select a remaining door and open to reveal a goat.\n",
    "* Click the `reveal` button to open your selected door.\n",
    "* Or click the remaining unopened to switch doors, and then click `reveal`.\n",
    "* Click the `continue` button to keep playing.\n",
    "* You may click the `reset` button at any time to return the game back to its initial state."
   ]
  },
  {
   "cell_type": "markdown",
   "metadata": {},
   "source": [
    "----\n",
    "\n",
    "&copy; Blitzstein, Joseph K.; Hwang, Jessica. Introduction to Probability (Chapman & Hall/CRC Texts in Statistical Science)."
   ]
  }
 ],
 "metadata": {
  "kernelspec": {
   "display_name": "Python 3",
   "language": "python",
   "name": "python3"
  },
  "language_info": {
   "codemirror_mode": {
    "name": "ipython",
    "version": 3
   },
   "file_extension": ".py",
   "mimetype": "text/x-python",
   "name": "python",
   "nbconvert_exporter": "python",
   "pygments_lexer": "ipython3",
   "version": "3.6.3"
  },
  "widgets": {
   "application/vnd.jupyter.widget-state+json": {
    "state": {
     "0091b801c05542728d2d7652ac58f958": {
      "model_module": "@jupyter-widgets/controls",
      "model_module_version": "1.4.0",
      "model_name": "ButtonModel",
      "state": {
       "description": "reveal",
       "layout": "IPY_MODEL_7237be3998bc430190850e48a9111802",
       "style": "IPY_MODEL_7ecb695d974943a9b0698e7049fae628",
       "tooltip": "open selected door"
      }
     },
     "0286db44510148198f50ac904117c9d3": {
      "model_module": "@jupyter-widgets/base",
      "model_module_version": "1.1.0",
      "model_name": "LayoutModel",
      "state": {
       "grid_area": "doors",
       "width": "auto"
      }
     },
     "045a220884614b4899c5ca459453875c": {
      "model_module": "@jupyter-widgets/controls",
      "model_module_version": "1.4.0",
      "model_name": "ButtonModel",
      "state": {
       "description": "reset",
       "layout": "IPY_MODEL_6803a927ca234edeb11aaf87a033550e",
       "style": "IPY_MODEL_aee5e2c8c3a04aa595c1aee2516e4ffc",
       "tooltip": "reset game"
      }
     },
     "04b34aebd65d4432b1370d19ccdbe97e": {
      "model_module": "@jupyter-widgets/base",
      "model_module_version": "1.1.0",
      "model_name": "LayoutModel",
      "state": {
       "grid_area": "status",
       "width": "auto"
      }
     },
     "05290c70373c4e7aa68355e62dc67b94": {
      "model_module": "@jupyter-widgets/base",
      "model_module_version": "1.1.0",
      "model_name": "LayoutModel",
      "state": {
       "grid_area": "actions",
       "width": "auto"
      }
     },
     "0854ac766fe34ef99e8cec7d1c45b01b": {
      "model_module": "@jupyter-widgets/base",
      "model_module_version": "1.1.0",
      "model_name": "LayoutModel",
      "state": {
       "grid_area": "status",
       "width": "auto"
      }
     },
     "08df4ad79d3648f595e22f2f65b26196": {
      "model_module": "@jupyter-widgets/base",
      "model_module_version": "1.1.0",
      "model_name": "LayoutModel",
      "state": {
       "grid_area": "text2",
       "width": "auto"
      }
     },
     "09e79cd47e5e4b73977a7fbbad12703c": {
      "model_module": "@jupyter-widgets/controls",
      "model_module_version": "1.4.0",
      "model_name": "LabelModel",
      "state": {
       "layout": "IPY_MODEL_d841223b0a0c4417aaf4b7f6116d20d8",
       "style": "IPY_MODEL_3398702cdffe4acf8f288f6ac1f7d8e4",
       "value": "number of wins"
      }
     },
     "09e996e357054de8b4c66c75afc0a1d7": {
      "model_module": "@jupyter-widgets/controls",
      "model_module_version": "1.4.0",
      "model_name": "DescriptionStyleModel",
      "state": {
       "description_width": ""
      }
     },
     "0b55994061d94081bb81106bbbdc9123": {
      "model_module": "@jupyter-widgets/controls",
      "model_module_version": "1.4.0",
      "model_name": "ButtonModel",
      "state": {
       "description": "reset",
       "layout": "IPY_MODEL_7237be3998bc430190850e48a9111802",
       "style": "IPY_MODEL_800d1c14d56647cf911ef74d41bdc86e",
       "tooltip": "reset game"
      }
     },
     "0eedc8d6d0e149f380043456ba76329d": {
      "model_module": "@jupyter-widgets/controls",
      "model_module_version": "1.4.0",
      "model_name": "FloatTextModel",
      "state": {
       "disabled": true,
       "layout": "IPY_MODEL_257ba6e1e5f34264ae501743ed6cc081",
       "step": null,
       "style": "IPY_MODEL_191bf49ae68e46419b9519f008af2b65"
      }
     },
     "0f4b5fb6534c46f59b8dce0342d7864c": {
      "model_module": "@jupyter-widgets/controls",
      "model_module_version": "1.4.0",
      "model_name": "BoxModel",
      "state": {
       "children": [
        "IPY_MODEL_955c4953cc04428f9568e4789c5a90b4",
        "IPY_MODEL_4afc02d1b32b48ce9e6644e788845142",
        "IPY_MODEL_045a220884614b4899c5ca459453875c"
       ],
       "layout": "IPY_MODEL_05290c70373c4e7aa68355e62dc67b94"
      }
     },
     "141a3adc127a48d894d391812af0d753": {
      "model_module": "@jupyter-widgets/controls",
      "model_module_version": "1.4.0",
      "model_name": "DescriptionStyleModel",
      "state": {
       "description_width": ""
      }
     },
     "14aee436bb7941d9bb0ff042d2bf9094": {
      "model_module": "@jupyter-widgets/controls",
      "model_module_version": "1.4.0",
      "model_name": "DescriptionStyleModel",
      "state": {
       "description_width": ""
      }
     },
     "15a8dc15f18f4793b5cbdbe87e0f6608": {
      "model_module": "@jupyter-widgets/base",
      "model_module_version": "1.1.0",
      "model_name": "LayoutModel",
      "state": {
       "width": "50%"
      }
     },
     "180452d42fcd4b7995ea22ac431e6140": {
      "model_module": "@jupyter-widgets/controls",
      "model_module_version": "1.4.0",
      "model_name": "ButtonStyleModel",
      "state": {}
     },
     "191bf49ae68e46419b9519f008af2b65": {
      "model_module": "@jupyter-widgets/controls",
      "model_module_version": "1.4.0",
      "model_name": "DescriptionStyleModel",
      "state": {
       "description_width": ""
      }
     },
     "257ba6e1e5f34264ae501743ed6cc081": {
      "model_module": "@jupyter-widgets/base",
      "model_module_version": "1.1.0",
      "model_name": "LayoutModel",
      "state": {
       "grid_area": "text3",
       "width": "auto"
      }
     },
     "27ddb6e8703b4c52ab41ea88328cea45": {
      "model_module": "@jupyter-widgets/base",
      "model_module_version": "1.1.0",
      "model_name": "LayoutModel",
      "state": {
       "grid_area": "label1",
       "width": "auto"
      }
     },
     "2a6a8720d8404266a8675a1add41243c": {
      "model_module": "@jupyter-widgets/base",
      "model_module_version": "1.1.0",
      "model_name": "LayoutModel",
      "state": {
       "grid_area": "banner",
       "justify_content": "center",
       "width": "auto"
      }
     },
     "2e569e1e375b49f397bc15acd155ee15": {
      "model_module": "@jupyter-widgets/controls",
      "model_module_version": "1.4.0",
      "model_name": "ButtonStyleModel",
      "state": {}
     },
     "2f645f0088554e1da8dff10ca6c22758": {
      "model_module": "@jupyter-widgets/controls",
      "model_module_version": "1.4.0",
      "model_name": "DescriptionStyleModel",
      "state": {
       "description_width": ""
      }
     },
     "3138c4951cef426cbdd2204654b5fa59": {
      "model_module": "@jupyter-widgets/controls",
      "model_module_version": "1.4.0",
      "model_name": "ButtonStyleModel",
      "state": {}
     },
     "338451238aa94841a3265a986caccdc0": {
      "model_module": "@jupyter-widgets/controls",
      "model_module_version": "1.4.0",
      "model_name": "DescriptionStyleModel",
      "state": {
       "description_width": ""
      }
     },
     "3398702cdffe4acf8f288f6ac1f7d8e4": {
      "model_module": "@jupyter-widgets/controls",
      "model_module_version": "1.4.0",
      "model_name": "DescriptionStyleModel",
      "state": {
       "description_width": ""
      }
     },
     "3e1a30970e92403d9d9b96d7bed797b8": {
      "model_module": "@jupyter-widgets/base",
      "model_module_version": "1.1.0",
      "model_name": "LayoutModel",
      "state": {
       "grid_area": "banner",
       "justify_content": "center",
       "width": "auto"
      }
     },
     "41229e63143d435e8abf480d5f9ede16": {
      "model_module": "@jupyter-widgets/base",
      "model_module_version": "1.1.0",
      "model_name": "LayoutModel",
      "state": {
       "grid_area": "doors",
       "width": "auto"
      }
     },
     "46d29bd6ec0d4d75a72c41a076e1108a": {
      "model_module": "@jupyter-widgets/base",
      "model_module_version": "1.1.0",
      "model_name": "LayoutModel",
      "state": {
       "flex": "1 1 auto",
       "width": "auto"
      }
     },
     "47ef21bf0d9e45d296bdc79a1a3163f2": {
      "model_module": "@jupyter-widgets/controls",
      "model_module_version": "1.4.0",
      "model_name": "ButtonStyleModel",
      "state": {}
     },
     "49e1500ec74c4c23b180b7197848ed3c": {
      "model_module": "@jupyter-widgets/controls",
      "model_module_version": "1.4.0",
      "model_name": "LabelModel",
      "state": {
       "layout": "IPY_MODEL_0854ac766fe34ef99e8cec7d1c45b01b",
       "style": "IPY_MODEL_ad63813e7d004dfb836d329353a7c794",
       "value": "Monty reveals a goat behind Door 2. Click Door 3 to switch, or 'reveal' Door 1."
      }
     },
     "4afc02d1b32b48ce9e6644e788845142": {
      "model_module": "@jupyter-widgets/controls",
      "model_module_version": "1.4.0",
      "model_name": "ButtonModel",
      "state": {
       "description": "continue",
       "disabled": true,
       "layout": "IPY_MODEL_6803a927ca234edeb11aaf87a033550e",
       "style": "IPY_MODEL_2e569e1e375b49f397bc15acd155ee15",
       "tooltip": "continue play"
      }
     },
     "516a9c02fd4b4db190a3f2954e89c0ce": {
      "model_module": "@jupyter-widgets/controls",
      "model_module_version": "1.4.0",
      "model_name": "IntTextModel",
      "state": {
       "disabled": true,
       "layout": "IPY_MODEL_f9cc26a6a7c840c291508107a83136f6",
       "step": 1,
       "style": "IPY_MODEL_b5abdfcf364742f090ad1b147cdffa89"
      }
     },
     "517e07568727453aa1ca33e303d873b8": {
      "model_module": "@jupyter-widgets/controls",
      "model_module_version": "1.4.0",
      "model_name": "LabelModel",
      "state": {
       "layout": "IPY_MODEL_15a8dc15f18f4793b5cbdbe87e0f6608",
       "style": "IPY_MODEL_141a3adc127a48d894d391812af0d753",
       "value": "Interactive widget: Monty Hall problem"
      }
     },
     "571ef36acac84c4c9f1d4b9e6a1fa93d": {
      "model_module": "@jupyter-widgets/controls",
      "model_module_version": "1.4.0",
      "model_name": "ButtonModel",
      "state": {
       "description": "Door 1",
       "layout": "IPY_MODEL_a7b8542b768b4b0aada283db2ee3495c",
       "style": "IPY_MODEL_7635cd34dd3a4eebb81b22ed153877af"
      }
     },
     "5956ba7b6bff45218d213aa45a88fe51": {
      "model_module": "@jupyter-widgets/controls",
      "model_module_version": "1.4.0",
      "model_name": "GridBoxModel",
      "state": {
       "children": [
        "IPY_MODEL_a9e97b13bd8944cd97b03975bf7325cb",
        "IPY_MODEL_b7a13785578343d68417d234ce805915",
        "IPY_MODEL_f1c0e952a007486b838454134f223588",
        "IPY_MODEL_6f8d4651524543b4959f4c7f6bbcfdda",
        "IPY_MODEL_09e79cd47e5e4b73977a7fbbad12703c",
        "IPY_MODEL_faecdc3aafe1483bb8583591ffb77145",
        "IPY_MODEL_60d82017d7f94a14b86eda4346fa2d1a",
        "IPY_MODEL_dfcd2c5426d74937a1bfc846fd8fc97f",
        "IPY_MODEL_49e1500ec74c4c23b180b7197848ed3c",
        "IPY_MODEL_dd09484d82ac42f384dc9ce8df4e20a0"
       ],
       "layout": "IPY_MODEL_fd84be5adc9c47c6be38ccb66afaeb1e"
      }
     },
     "604ec4ae88724cd7912f41c7930be683": {
      "model_module": "@jupyter-widgets/controls",
      "model_module_version": "1.4.0",
      "model_name": "ButtonModel",
      "state": {
       "description": "goat",
       "disabled": true,
       "layout": "IPY_MODEL_46d29bd6ec0d4d75a72c41a076e1108a",
       "style": "IPY_MODEL_e69e3aaeac3f4d098703af24ae9d97f7"
      }
     },
     "60d82017d7f94a14b86eda4346fa2d1a": {
      "model_module": "@jupyter-widgets/controls",
      "model_module_version": "1.4.0",
      "model_name": "LabelModel",
      "state": {
       "layout": "IPY_MODEL_e8fafc7ac712444ba76082d8ec6093d5",
       "style": "IPY_MODEL_338451238aa94841a3265a986caccdc0",
       "value": "success rate"
      }
     },
     "6803a927ca234edeb11aaf87a033550e": {
      "model_module": "@jupyter-widgets/base",
      "model_module_version": "1.1.0",
      "model_name": "LayoutModel",
      "state": {
       "flex": "1 1 auto",
       "width": "auto"
      }
     },
     "69745bdcc3614c6bbfad79ac9644bfcc": {
      "model_module": "@jupyter-widgets/controls",
      "model_module_version": "1.4.0",
      "model_name": "LabelModel",
      "state": {
       "layout": "IPY_MODEL_04b34aebd65d4432b1370d19ccdbe97e",
       "style": "IPY_MODEL_bb39253e0ce34acd94f904e2c9f8ab30",
       "value": "Pick a door..."
      }
     },
     "6bc4d8796ae145a2a14b4a4c7d78fe38": {
      "model_module": "@jupyter-widgets/controls",
      "model_module_version": "1.4.0",
      "model_name": "DescriptionStyleModel",
      "state": {
       "description_width": ""
      }
     },
     "6e82aae2d1c540bd9621bd187698bdee": {
      "model_module": "@jupyter-widgets/controls",
      "model_module_version": "1.4.0",
      "model_name": "LabelModel",
      "state": {
       "layout": "IPY_MODEL_836ab4145631471c893eedcc09d452d5",
       "style": "IPY_MODEL_6bc4d8796ae145a2a14b4a4c7d78fe38",
       "value": "Interactive widget: Monty Hall problem"
      }
     },
     "6f8d4651524543b4959f4c7f6bbcfdda": {
      "model_module": "@jupyter-widgets/controls",
      "model_module_version": "1.4.0",
      "model_name": "IntTextModel",
      "state": {
       "disabled": true,
       "layout": "IPY_MODEL_fd1475d30fd94f6f9a100e94ef1136a4",
       "step": 1,
       "style": "IPY_MODEL_e2cbe1f7eda84c5aa031b25969c2e510",
       "value": 6
      }
     },
     "70ed1b3f3f0d4108b1eecb723836fa92": {
      "model_module": "@jupyter-widgets/controls",
      "model_module_version": "1.4.0",
      "model_name": "BoxModel",
      "state": {
       "children": [
        "IPY_MODEL_6e82aae2d1c540bd9621bd187698bdee"
       ],
       "layout": "IPY_MODEL_3e1a30970e92403d9d9b96d7bed797b8"
      }
     },
     "7237be3998bc430190850e48a9111802": {
      "model_module": "@jupyter-widgets/base",
      "model_module_version": "1.1.0",
      "model_name": "LayoutModel",
      "state": {
       "flex": "1 1 auto",
       "width": "auto"
      }
     },
     "7635cd34dd3a4eebb81b22ed153877af": {
      "model_module": "@jupyter-widgets/controls",
      "model_module_version": "1.4.0",
      "model_name": "ButtonStyleModel",
      "state": {}
     },
     "7ecb695d974943a9b0698e7049fae628": {
      "model_module": "@jupyter-widgets/controls",
      "model_module_version": "1.4.0",
      "model_name": "ButtonStyleModel",
      "state": {}
     },
     "800d1c14d56647cf911ef74d41bdc86e": {
      "model_module": "@jupyter-widgets/controls",
      "model_module_version": "1.4.0",
      "model_name": "ButtonStyleModel",
      "state": {}
     },
     "816fbde838e54f139bad97da5e7786b3": {
      "model_module": "@jupyter-widgets/controls",
      "model_module_version": "1.4.0",
      "model_name": "ButtonModel",
      "state": {
       "description": "Door 3",
       "layout": "IPY_MODEL_a7b8542b768b4b0aada283db2ee3495c",
       "style": "IPY_MODEL_c75827f5be4f4534a0ffbd29aa622ab4"
      }
     },
     "836ab4145631471c893eedcc09d452d5": {
      "model_module": "@jupyter-widgets/base",
      "model_module_version": "1.1.0",
      "model_name": "LayoutModel",
      "state": {
       "width": "50%"
      }
     },
     "8f321fb963b34291b9d7aff13adc8242": {
      "model_module": "@jupyter-widgets/controls",
      "model_module_version": "1.4.0",
      "model_name": "DescriptionStyleModel",
      "state": {
       "description_width": ""
      }
     },
     "9330a45648ea46b2bcbd187def44d49a": {
      "model_module": "@jupyter-widgets/base",
      "model_module_version": "1.1.0",
      "model_name": "LayoutModel",
      "state": {
       "grid_template_areas": "\n                \"banner banner banner banner\"\n                \"doors doors doors doors\"\n                \"label1 label1 text1 text1\"\n                \"label2 label2 text2 text2\"\n                \"label3 label3 text3 text3\"\n                \"status status status status\"\n                \". . actions actions\"\n            ",
       "grid_template_columns": "25% 25% 25% 25%",
       "grid_template_rows": "auto auto auto auto auto auto auto",
       "width": "50%"
      }
     },
     "955c4953cc04428f9568e4789c5a90b4": {
      "model_module": "@jupyter-widgets/controls",
      "model_module_version": "1.4.0",
      "model_name": "ButtonModel",
      "state": {
       "description": "reveal",
       "disabled": true,
       "layout": "IPY_MODEL_6803a927ca234edeb11aaf87a033550e",
       "style": "IPY_MODEL_cbdd3c8076ba49ee950002303ca8f9fd",
       "tooltip": "open selected door"
      }
     },
     "95a6c5dbdc47456f996147a239280016": {
      "model_module": "@jupyter-widgets/base",
      "model_module_version": "1.1.0",
      "model_name": "LayoutModel",
      "state": {
       "grid_area": "actions",
       "width": "auto"
      }
     },
     "980dab40d5654ec8b8f2deaaed6d14d9": {
      "model_module": "@jupyter-widgets/controls",
      "model_module_version": "1.4.0",
      "model_name": "BoxModel",
      "state": {
       "children": [
        "IPY_MODEL_571ef36acac84c4c9f1d4b9e6a1fa93d",
        "IPY_MODEL_d08be5d21f15403f87f83cbc4d583613",
        "IPY_MODEL_816fbde838e54f139bad97da5e7786b3"
       ],
       "layout": "IPY_MODEL_0286db44510148198f50ac904117c9d3"
      }
     },
     "991e160a64f842a4bf6f2e51723de011": {
      "model_module": "@jupyter-widgets/base",
      "model_module_version": "1.1.0",
      "model_name": "LayoutModel",
      "state": {
       "grid_area": "label1",
       "width": "auto"
      }
     },
     "997e0606bddb4888bf075082d795015e": {
      "model_module": "@jupyter-widgets/controls",
      "model_module_version": "1.4.0",
      "model_name": "DescriptionStyleModel",
      "state": {
       "description_width": ""
      }
     },
     "a7b8542b768b4b0aada283db2ee3495c": {
      "model_module": "@jupyter-widgets/base",
      "model_module_version": "1.1.0",
      "model_name": "LayoutModel",
      "state": {
       "flex": "1 1 auto",
       "width": "auto"
      }
     },
     "a9e97b13bd8944cd97b03975bf7325cb": {
      "model_module": "@jupyter-widgets/controls",
      "model_module_version": "1.4.0",
      "model_name": "BoxModel",
      "state": {
       "children": [
        "IPY_MODEL_517e07568727453aa1ca33e303d873b8"
       ],
       "layout": "IPY_MODEL_2a6a8720d8404266a8675a1add41243c"
      }
     },
     "ad63813e7d004dfb836d329353a7c794": {
      "model_module": "@jupyter-widgets/controls",
      "model_module_version": "1.4.0",
      "model_name": "DescriptionStyleModel",
      "state": {
       "description_width": ""
      }
     },
     "aee5e2c8c3a04aa595c1aee2516e4ffc": {
      "model_module": "@jupyter-widgets/controls",
      "model_module_version": "1.4.0",
      "model_name": "ButtonStyleModel",
      "state": {}
     },
     "b4b5c341cc9f4c59ac6293d93977c696": {
      "model_module": "@jupyter-widgets/controls",
      "model_module_version": "1.4.0",
      "model_name": "LabelModel",
      "state": {
       "layout": "IPY_MODEL_f3034002cfad406dbcb86aa221fc0a46",
       "style": "IPY_MODEL_2f645f0088554e1da8dff10ca6c22758",
       "value": "number of wins"
      }
     },
     "b5abdfcf364742f090ad1b147cdffa89": {
      "model_module": "@jupyter-widgets/controls",
      "model_module_version": "1.4.0",
      "model_name": "DescriptionStyleModel",
      "state": {
       "description_width": ""
      }
     },
     "b7a13785578343d68417d234ce805915": {
      "model_module": "@jupyter-widgets/controls",
      "model_module_version": "1.4.0",
      "model_name": "BoxModel",
      "state": {
       "children": [
        "IPY_MODEL_cafc955d3f9f4b66991f575d8ae0351e",
        "IPY_MODEL_604ec4ae88724cd7912f41c7930be683",
        "IPY_MODEL_dd4700ebc13a4a6ba07ddb68419a3d82"
       ],
       "layout": "IPY_MODEL_41229e63143d435e8abf480d5f9ede16"
      }
     },
     "bb39253e0ce34acd94f904e2c9f8ab30": {
      "model_module": "@jupyter-widgets/controls",
      "model_module_version": "1.4.0",
      "model_name": "DescriptionStyleModel",
      "state": {
       "description_width": ""
      }
     },
     "c75827f5be4f4534a0ffbd29aa622ab4": {
      "model_module": "@jupyter-widgets/controls",
      "model_module_version": "1.4.0",
      "model_name": "ButtonStyleModel",
      "state": {}
     },
     "cafc955d3f9f4b66991f575d8ae0351e": {
      "model_module": "@jupyter-widgets/controls",
      "model_module_version": "1.4.0",
      "model_name": "ButtonModel",
      "state": {
       "button_style": "info",
       "description": "Door 1",
       "disabled": true,
       "layout": "IPY_MODEL_46d29bd6ec0d4d75a72c41a076e1108a",
       "style": "IPY_MODEL_3138c4951cef426cbdd2204654b5fa59"
      }
     },
     "cbdd3c8076ba49ee950002303ca8f9fd": {
      "model_module": "@jupyter-widgets/controls",
      "model_module_version": "1.4.0",
      "model_name": "ButtonStyleModel",
      "state": {}
     },
     "d08be5d21f15403f87f83cbc4d583613": {
      "model_module": "@jupyter-widgets/controls",
      "model_module_version": "1.4.0",
      "model_name": "ButtonModel",
      "state": {
       "description": "Door 2",
       "layout": "IPY_MODEL_a7b8542b768b4b0aada283db2ee3495c",
       "style": "IPY_MODEL_dd9135d2ee214ea8896411dfb82130fd"
      }
     },
     "d841223b0a0c4417aaf4b7f6116d20d8": {
      "model_module": "@jupyter-widgets/base",
      "model_module_version": "1.1.0",
      "model_name": "LayoutModel",
      "state": {
       "grid_area": "label2",
       "width": "auto"
      }
     },
     "da4d7111e8594a859025f943a0fc7d55": {
      "model_module": "@jupyter-widgets/base",
      "model_module_version": "1.1.0",
      "model_name": "LayoutModel",
      "state": {
       "grid_area": "label3",
       "width": "auto"
      }
     },
     "dd009340684849598819395cdbf73a42": {
      "model_module": "@jupyter-widgets/controls",
      "model_module_version": "1.4.0",
      "model_name": "DescriptionStyleModel",
      "state": {
       "description_width": ""
      }
     },
     "dd09484d82ac42f384dc9ce8df4e20a0": {
      "model_module": "@jupyter-widgets/controls",
      "model_module_version": "1.4.0",
      "model_name": "BoxModel",
      "state": {
       "children": [
        "IPY_MODEL_0091b801c05542728d2d7652ac58f958",
        "IPY_MODEL_ec557682d14642f4be8d2cba40fed582",
        "IPY_MODEL_0b55994061d94081bb81106bbbdc9123"
       ],
       "layout": "IPY_MODEL_95a6c5dbdc47456f996147a239280016"
      }
     },
     "dd4700ebc13a4a6ba07ddb68419a3d82": {
      "model_module": "@jupyter-widgets/controls",
      "model_module_version": "1.4.0",
      "model_name": "ButtonModel",
      "state": {
       "description": "Door 3",
       "layout": "IPY_MODEL_46d29bd6ec0d4d75a72c41a076e1108a",
       "style": "IPY_MODEL_180452d42fcd4b7995ea22ac431e6140"
      }
     },
     "dd9135d2ee214ea8896411dfb82130fd": {
      "model_module": "@jupyter-widgets/controls",
      "model_module_version": "1.4.0",
      "model_name": "ButtonStyleModel",
      "state": {}
     },
     "dfcd2c5426d74937a1bfc846fd8fc97f": {
      "model_module": "@jupyter-widgets/controls",
      "model_module_version": "1.4.0",
      "model_name": "FloatTextModel",
      "state": {
       "disabled": true,
       "layout": "IPY_MODEL_f69f7da0d4f5445baac608e80184e85f",
       "step": null,
       "style": "IPY_MODEL_8f321fb963b34291b9d7aff13adc8242",
       "value": 0.6666666666666666
      }
     },
     "e2cbe1f7eda84c5aa031b25969c2e510": {
      "model_module": "@jupyter-widgets/controls",
      "model_module_version": "1.4.0",
      "model_name": "DescriptionStyleModel",
      "state": {
       "description_width": ""
      }
     },
     "e3cad02a9ced4f88a1a734aed2dc23b5": {
      "model_module": "@jupyter-widgets/controls",
      "model_module_version": "1.4.0",
      "model_name": "LabelModel",
      "state": {
       "layout": "IPY_MODEL_da4d7111e8594a859025f943a0fc7d55",
       "style": "IPY_MODEL_dd009340684849598819395cdbf73a42",
       "value": "success rate"
      }
     },
     "e69e3aaeac3f4d098703af24ae9d97f7": {
      "model_module": "@jupyter-widgets/controls",
      "model_module_version": "1.4.0",
      "model_name": "ButtonStyleModel",
      "state": {}
     },
     "e8fafc7ac712444ba76082d8ec6093d5": {
      "model_module": "@jupyter-widgets/base",
      "model_module_version": "1.1.0",
      "model_name": "LayoutModel",
      "state": {
       "grid_area": "label3",
       "width": "auto"
      }
     },
     "ec08c3c1fd74487f9719675dc6630d9b": {
      "model_module": "@jupyter-widgets/base",
      "model_module_version": "1.1.0",
      "model_name": "LayoutModel",
      "state": {
       "grid_area": "text2",
       "width": "auto"
      }
     },
     "ec557682d14642f4be8d2cba40fed582": {
      "model_module": "@jupyter-widgets/controls",
      "model_module_version": "1.4.0",
      "model_name": "ButtonModel",
      "state": {
       "description": "continue",
       "disabled": true,
       "layout": "IPY_MODEL_7237be3998bc430190850e48a9111802",
       "style": "IPY_MODEL_47ef21bf0d9e45d296bdc79a1a3163f2",
       "tooltip": "continue play"
      }
     },
     "f14f654dadd14d1c92c5e4df3eb3a8df": {
      "model_module": "@jupyter-widgets/controls",
      "model_module_version": "1.4.0",
      "model_name": "IntTextModel",
      "state": {
       "disabled": true,
       "layout": "IPY_MODEL_ec08c3c1fd74487f9719675dc6630d9b",
       "step": 1,
       "style": "IPY_MODEL_997e0606bddb4888bf075082d795015e"
      }
     },
     "f1c0e952a007486b838454134f223588": {
      "model_module": "@jupyter-widgets/controls",
      "model_module_version": "1.4.0",
      "model_name": "LabelModel",
      "state": {
       "layout": "IPY_MODEL_991e160a64f842a4bf6f2e51723de011",
       "style": "IPY_MODEL_f7780cbb5ee14807a7d479b0977f4bdc",
       "value": "number of plays"
      }
     },
     "f3034002cfad406dbcb86aa221fc0a46": {
      "model_module": "@jupyter-widgets/base",
      "model_module_version": "1.1.0",
      "model_name": "LayoutModel",
      "state": {
       "grid_area": "label2",
       "width": "auto"
      }
     },
     "f3c2a045ecf04b419671973281c0afef": {
      "model_module": "@jupyter-widgets/controls",
      "model_module_version": "1.4.0",
      "model_name": "LabelModel",
      "state": {
       "layout": "IPY_MODEL_27ddb6e8703b4c52ab41ea88328cea45",
       "style": "IPY_MODEL_14aee436bb7941d9bb0ff042d2bf9094",
       "value": "number of plays"
      }
     },
     "f69f7da0d4f5445baac608e80184e85f": {
      "model_module": "@jupyter-widgets/base",
      "model_module_version": "1.1.0",
      "model_name": "LayoutModel",
      "state": {
       "grid_area": "text3",
       "width": "auto"
      }
     },
     "f7780cbb5ee14807a7d479b0977f4bdc": {
      "model_module": "@jupyter-widgets/controls",
      "model_module_version": "1.4.0",
      "model_name": "DescriptionStyleModel",
      "state": {
       "description_width": ""
      }
     },
     "f81298ef50f742db965a2248bc2ab5a3": {
      "model_module": "@jupyter-widgets/controls",
      "model_module_version": "1.4.0",
      "model_name": "GridBoxModel",
      "state": {
       "children": [
        "IPY_MODEL_70ed1b3f3f0d4108b1eecb723836fa92",
        "IPY_MODEL_980dab40d5654ec8b8f2deaaed6d14d9",
        "IPY_MODEL_f3c2a045ecf04b419671973281c0afef",
        "IPY_MODEL_516a9c02fd4b4db190a3f2954e89c0ce",
        "IPY_MODEL_b4b5c341cc9f4c59ac6293d93977c696",
        "IPY_MODEL_f14f654dadd14d1c92c5e4df3eb3a8df",
        "IPY_MODEL_e3cad02a9ced4f88a1a734aed2dc23b5",
        "IPY_MODEL_0eedc8d6d0e149f380043456ba76329d",
        "IPY_MODEL_69745bdcc3614c6bbfad79ac9644bfcc",
        "IPY_MODEL_0f4b5fb6534c46f59b8dce0342d7864c"
       ],
       "layout": "IPY_MODEL_9330a45648ea46b2bcbd187def44d49a"
      }
     },
     "f9cc26a6a7c840c291508107a83136f6": {
      "model_module": "@jupyter-widgets/base",
      "model_module_version": "1.1.0",
      "model_name": "LayoutModel",
      "state": {
       "grid_area": "text1",
       "width": "auto"
      }
     },
     "faecdc3aafe1483bb8583591ffb77145": {
      "model_module": "@jupyter-widgets/controls",
      "model_module_version": "1.4.0",
      "model_name": "IntTextModel",
      "state": {
       "disabled": true,
       "layout": "IPY_MODEL_08df4ad79d3648f595e22f2f65b26196",
       "step": 1,
       "style": "IPY_MODEL_09e996e357054de8b4c66c75afc0a1d7",
       "value": 4
      }
     },
     "fd1475d30fd94f6f9a100e94ef1136a4": {
      "model_module": "@jupyter-widgets/base",
      "model_module_version": "1.1.0",
      "model_name": "LayoutModel",
      "state": {
       "grid_area": "text1",
       "width": "auto"
      }
     },
     "fd84be5adc9c47c6be38ccb66afaeb1e": {
      "model_module": "@jupyter-widgets/base",
      "model_module_version": "1.1.0",
      "model_name": "LayoutModel",
      "state": {
       "grid_template_areas": "\n                \"banner banner banner banner\"\n                \"doors doors doors doors\"\n                \"label1 label1 text1 text1\"\n                \"label2 label2 text2 text2\"\n                \"label3 label3 text3 text3\"\n                \"status status status status\"\n                \". . actions actions\"\n            ",
       "grid_template_columns": "25% 25% 25% 25%",
       "grid_template_rows": "auto auto auto auto auto auto auto",
       "width": "50%"
      }
     }
    },
    "version_major": 2,
    "version_minor": 0
   }
  }
 },
 "nbformat": 4,
 "nbformat_minor": 2
}
