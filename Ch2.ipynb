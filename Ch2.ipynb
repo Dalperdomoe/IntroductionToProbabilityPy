{
 "cells": [
  {
   "cell_type": "markdown",
   "metadata": {},
   "source": [
    "# Chapter 2: Conditional probability\n",
    " \n",
    "This Jupyter notebook is the Python equivalent of the R code in section 2.10 R, [Introduction to Probability, 1st Edition](https://www.crcpress.com/Introduction-to-Probability/Blitzstein-Hwang/p/book/9781466575578), Blitzstein & Hwang.\n",
    "\n",
    "----"
   ]
  },
  {
   "cell_type": "code",
   "execution_count": 1,
   "metadata": {
    "collapsed": true
   },
   "outputs": [],
   "source": [
    "import numpy as np\n",
    "\n",
    "np.random.seed(123)"
   ]
  },
  {
   "cell_type": "markdown",
   "metadata": {},
   "source": [
    "## Simulating the frequentist interpretation \n",
    "\n",
    "Recall that the frequentist interpretation of conditional probability based on a large number `n` of repetitions of an experiment is $P(A|B) ≈ n_{AB}/n_{B}$, where $n_{AB}$ is the number of times that $A \\cap B$ occurs and $n_{B}$ is the number of times that $B$ occurs. Let's try this out by simulation, and verify the results of Example 2.2.5. So let's use [`numpy.random.choice`](https://docs.scipy.org/doc/numpy-1.15.0/reference/generated/numpy.random.choice.html) to simulate `n` families, each with two children."
   ]
  },
  {
   "cell_type": "code",
   "execution_count": 2,
   "metadata": {},
   "outputs": [
    {
     "data": {
      "text/plain": [
       "array([1, 2, 1, ..., 2, 1, 1])"
      ]
     },
     "execution_count": 2,
     "metadata": {},
     "output_type": "execute_result"
    }
   ],
   "source": [
    "n = 10**5\n",
    "child1 = np.random.choice([1,2], n, replace=True) \n",
    "child2 = np.random.choice([1,2], n, replace=True) \n",
    "\n",
    "child1"
   ]
  },
  {
   "cell_type": "markdown",
   "metadata": {},
   "source": [
    "Here `child1` is a Numpy `array` of length `n`, where each element is a 1 or a 2. Letting 1 stand for \"girl\" and 2 stand for \"boy\", this `array` represents the gender of the elder child in each of the `n` families. Similarly, `child2` represents the gender of the younger child in each family. \n",
    "\n",
    "Alternatively, we could have used"
   ]
  },
  {
   "cell_type": "code",
   "execution_count": 3,
   "metadata": {},
   "outputs": [
    {
     "data": {
      "text/plain": [
       "array(['boy', 'boy', 'girl', ..., 'girl', 'boy', 'boy'],\n",
       "      dtype='<U4')"
      ]
     },
     "execution_count": 3,
     "metadata": {},
     "output_type": "execute_result"
    }
   ],
   "source": [
    "np.random.choice([\"girl\", \"boy\"], n, replace=True)"
   ]
  },
  {
   "cell_type": "markdown",
   "metadata": {},
   "source": [
    "but it is more convenient working with numerical values.\n",
    "\n",
    "Let $A$ be the event that both children are girls and $B$ the event that the elder is a girl. Following the frequentist interpretation, we count the number of repetitions where $B$ occurred and name it `n_b`, and we also count the number of repetitions where $A \\cap B$ occurred and name it `n_ab`. Finally, we divide `n_ab` by ` n_b` to approximate $P(A|B)$."
   ]
  },
  {
   "cell_type": "code",
   "execution_count": 4,
   "metadata": {},
   "outputs": [
    {
     "data": {
      "text/plain": [
       "0.50183318056828596"
      ]
     },
     "execution_count": 4,
     "metadata": {},
     "output_type": "execute_result"
    }
   ],
   "source": [
    "n_b = np.sum(child1==1)\n",
    "n_ab = np.sum((child1==1) & (child2==1))\n",
    "n_ab / n_b"
   ]
  },
  {
   "cell_type": "markdown",
   "metadata": {},
   "source": [
    "The ampersand `&` is an elementwise $AND$, so `n_ab` is the number of families where both the first child and the second child are girls. When we ran this code, we got 0.50, confirming our answer $P(\\text{both girls | elder is a girl}) = 1/2$. \n",
    "\n",
    "Now let $A$ be the event that both children are girls and $B$ the event that at least one of the children is a girl. Then $A \\cap B$ is the same, but `n_b` needs to count the number of families where at least one child is a girl. This is accomplished with the elementwise $OR$ operator `|` (this is not a conditioning bar; it is an inclusive $OR$, returning `True` if at least one element is `True`)."
   ]
  },
  {
   "cell_type": "code",
   "execution_count": 5,
   "metadata": {},
   "outputs": [
    {
     "data": {
      "text/plain": [
       "0.33529035865484463"
      ]
     },
     "execution_count": 5,
     "metadata": {},
     "output_type": "execute_result"
    }
   ],
   "source": [
    "n_b = np.sum((child1==1) | (child2==2))\n",
    "n_ab = np.sum((child1==1) & (child2==1))\n",
    "n_ab / n_b"
   ]
  },
  {
   "cell_type": "markdown",
   "metadata": {},
   "source": [
    "For us, the result was 0.33, confirming that $P(\\text{both girls | at least one girl}) = 1/3$."
   ]
  },
  {
   "cell_type": "markdown",
   "metadata": {},
   "source": [
    "## Monty Hall simulation\n",
    "\n",
    "Many long, bitter debates about the Monty Hall problem could have been averted by trying it out with a simulation. To study how well the never-switch strategy performs, let's generate $10^{5}$ runs of the Monty Hall game. To simplify notation, assume the contestant always chooses door 1. Then we can generate a vector specifying which door has the car for each repetition:\n"
   ]
  },
  {
   "cell_type": "code",
   "execution_count": 6,
   "metadata": {},
   "outputs": [
    {
     "data": {
      "text/plain": [
       "0.33395999999999998"
      ]
     },
     "execution_count": 6,
     "metadata": {},
     "output_type": "execute_result"
    }
   ],
   "source": [
    "n = 10**5\n",
    "cardoor = np.random.choice([1,2,3] , n, replace=True)\n",
    "\n",
    "np.sum(cardoor==1) / n"
   ]
  },
  {
   "cell_type": "markdown",
   "metadata": {},
   "source": [
    "At this point we could generate the vector specifying which doors Monty opens, but that's unnecessary since the never-switch strategy succeeds if and only if door 1 has the car! So the fraction of times when the never-switch strategy succeeds is `sum(cardoor==1)/n`, which was 0.334 in our simulation. This is very close to 1/3.\n",
    "\n",
    "What if we want to play the Monty Hall game interactively? We can do this by programming a function. Entering the following code in R defines a function called `monty`, which can then be invoked by entering the command monty() any time you feel like playing the game!\n"
   ]
  },
  {
   "cell_type": "raw",
   "metadata": {},
   "source": [
    "monty <- function() { \n",
    "    doors <- 1:3 \n",
    "    \n",
    "    #randomly pick where the car is \n",
    "    cardoor <- sample(doors,1)\n",
    "    \n",
    "    #prompt player \n",
    "    print(\"Monty Hall says ‘Pick a door, any door!’\") \n",
    "    \n",
    "    #receive the player’s choice of door (should be 1,2, or 3) \n",
    "    chosen <- scan(what = integer(), nlines = 1, quiet = TRUE) \n",
    "    \n",
    "    #pick Monty’s door (can’t be the player’s door or the car door) \n",
    "    if (chosen != cardoor) montydoor <- doors[-c(chosen, cardoor)]\n",
    "    else montydoor <- sample(doors[-chosen],1) \n",
    "    \n",
    "    #find out whether the player wants to switch doors\n",
    "    print(paste(\"Monty opens door\", montydoor,\"!\", sep=\"\")) \n",
    "    print(\"Would you like to switch (y/n)?\") \n",
    "    reply <- scan(what = character(), nlines = 1, quiet = TRUE) \n",
    "    \n",
    "    #interpret what player wrote as \"yes\" if it starts with \"y\" \n",
    "    if (substr(reply,1,1) == \"y\") chosen <- doors[-c(chosen,montydoor)] \n",
    "    \n",
    "    #announce the result of the game! \n",
    "    if (chosen == cardoor) print(\"You won!\") \n",
    "    else print(\"You lost!\")\n",
    "    \n",
    "}"
   ]
  },
  {
   "cell_type": "markdown",
   "metadata": {},
   "source": [
    "The print command prints its argument to the screen. We combine this with paste since print(\"Monty opens door montydoor\") would literally print “Monty opens door montydoor”. The scan command interactively requests input from the user; we use what = integer() when we want the user to enter an integer and what = character() when we want the user to enter text. Using substr(reply,1,1) extracts the first character of reply, in case the user replies with “yes” or “yep” or “yeah!” rather than with “y”.\n"
   ]
  },
  {
   "cell_type": "code",
   "execution_count": 7,
   "metadata": {},
   "outputs": [],
   "source": [
    "class StateContext():\n",
    "    \n",
    "    def __init__(self):\n",
    "        self.num_plays = 0\n",
    "        self.num_wins = 0\n",
    "        self.doors = np.array(['C', 'G', 'G'])\n",
    "        self.players_choice = None\n",
    "        self.montys_choice = None\n",
    "        self.current_state = None\n",
    "        self.message = None\n",
    "    \n",
    "    def set_initial_state(self, initial):\n",
    "        self.current_state = initial\n",
    "\n",
    "    def get_success_rate(self):\n",
    "        if self.num_plays > 0:\n",
    "            return self.num_wins / self.num_plays\n",
    "        else:\n",
    "            return 0.0\n",
    "\n",
    "INITIAL = 2**0\n",
    "PLAYER_CHOOSES = 2**1\n",
    "MONTY_CHOOSES = 2**2\n",
    "PLAYER_SWITCHES = 2**3\n",
    "CONTINUE_PLAYING = 2**4\n",
    "\n",
    "class BaseState():\n",
    "    def __init__(self, context, **kwargs):\n",
    "        self.context = context\n",
    "        self.allowed = 0\n",
    "\n",
    "    def transition(self, next_state):\n",
    "        if next_state.state & self.allowed > 0:\n",
    "            self.context.current_state = next_state\n",
    "        else:\n",
    "            print('Current:',self,' => switching to',next_state,'not possible.')\n",
    "\n",
    "class InitialState(BaseState):\n",
    "    def __init__(self, context, **kwargs):\n",
    "        super(InitialState, self).__init__(context, **kwargs)\n",
    "        np.random.shuffle(self.context.doors)\n",
    "        self.state = INITIAL\n",
    "        self.allowed = PLAYER_CHOOSES | INITIAL\n",
    "        self.context.num_plays = 0\n",
    "        self.context.num_wins = 0\n",
    "        self.context.players_choice = None\n",
    "        self.context.montys_choice = None\n",
    "        self.context.message = 'Pick a door.'\n",
    "\n",
    "class ContinuePlayingState(BaseState):\n",
    "    def __init__(self, context, **kwargs):\n",
    "        super(ContinuePlayingState, self).__init__(context, **kwargs)\n",
    "        np.random.shuffle(self.context.doors)\n",
    "        self.state = INITIAL\n",
    "        self.allowed = PLAYER_CHOOSES | INITIAL\n",
    "        self.context.players_choice = None\n",
    "        self.context.montys_choice = None\n",
    "        self.context.message = 'Pick a door.'\n",
    "\n",
    "class PlayerChoosesState(BaseState):\n",
    "    def __init__(self, context, **kwargs):\n",
    "        super(PlayerChoosesState, self).__init__(context, **kwargs)\n",
    "        self.state = PLAYER_CHOOSES\n",
    "        self.allowed = MONTY_CHOOSES | INITIAL\n",
    "        if 'players_choice' in kwargs:\n",
    "            self.context.players_choice = kwargs['players_choice']\n",
    "\n",
    "class MontyChoosesState(BaseState):\n",
    "    def __init__(self, context, **kwargs):\n",
    "        super(MontyChoosesState, self).__init__(context, **kwargs)\n",
    "        self.state = MONTY_CHOOSES\n",
    "        self.allowed = PLAYER_SWITCHES | INITIAL\n",
    "        idx = [e for e in range(len(self.context.doors)) if e != self.context.players_choice and self.context.doors[e] != 'C']\n",
    "        self.context.montys_choice = np.random.choice(idx, size=1, replace=False)[0]\n",
    "\n",
    "class PlayerSwitchesState(BaseState):\n",
    "    def __init__(self, context, **kwargs):\n",
    "        super(PlayerSwitchesState, self).__init__(context, **kwargs)\n",
    "        self.state = PLAYER_SWITCHES\n",
    "        self.allowed = INITIAL | CONTINUE_PLAYING\n",
    "        if 'player_switches' in kwargs:\n",
    "            if kwargs['player_switches'] == True:\n",
    "               idx = [e for e in range(len(self.context.doors)) if e != self.context.players_choice and e != self.context.montys_choice][0]\n",
    "               self.context.players_choice = idx\n",
    "        if self.context.players_choice == np.where(self.context.doors=='C')[0][0]:\n",
    "            self.context.num_wins += 1\n",
    "            self.context.message = 'You win!'\n",
    "        else:\n",
    "            self.context.message = 'Monty wins.'\n",
    "        self.context.num_plays += 1"
   ]
  },
  {
   "cell_type": "code",
   "execution_count": null,
   "metadata": {
    "collapsed": true
   },
   "outputs": [],
   "source": []
  },
  {
   "cell_type": "markdown",
   "metadata": {},
   "source": [
    "----\n",
    "\n",
    "&copy; Blitzstein, Joseph K.; Hwang, Jessica. Introduction to Probability (Chapman & Hall/CRC Texts in Statistical Science)."
   ]
  }
 ],
 "metadata": {
  "kernelspec": {
   "display_name": "Python 3",
   "language": "python",
   "name": "python3"
  },
  "language_info": {
   "codemirror_mode": {
    "name": "ipython",
    "version": 3
   },
   "file_extension": ".py",
   "mimetype": "text/x-python",
   "name": "python",
   "nbconvert_exporter": "python",
   "pygments_lexer": "ipython3",
   "version": "3.6.3"
  }
 },
 "nbformat": 4,
 "nbformat_minor": 2
}
