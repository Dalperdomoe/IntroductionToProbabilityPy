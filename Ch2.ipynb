{
 "cells": [
  {
   "cell_type": "markdown",
   "metadata": {},
   "source": [
    "# Chapter 2: Conditional probability\n",
    " \n",
    "This Jupyter notebook is the Python equivalent of the R code in section 2.10 R, [Introduction to Probability, 1st Edition](https://www.crcpress.com/Introduction-to-Probability/Blitzstein-Hwang/p/book/9781466575578), Blitzstein & Hwang.\n",
    "\n",
    "----"
   ]
  },
  {
   "cell_type": "code",
   "execution_count": 1,
   "metadata": {
    "collapsed": true
   },
   "outputs": [],
   "source": [
    "import numpy as np\n",
    "\n",
    "np.random.seed(123)"
   ]
  },
  {
   "cell_type": "markdown",
   "metadata": {},
   "source": [
    "## Simulating the frequentist interpretation \n",
    "\n",
    "Recall that the frequentist interpretation of conditional probability based on a large number `n` of repetitions of an experiment is $P(A|B) ≈ n_{AB}/n_{B}$, where $n_{AB}$ is the number of times that $A \\cap B$ occurs and $n_{B}$ is the number of times that $B$ occurs. Let's try this out by simulation, and verify the results of Example 2.2.5. So let's use [`numpy.random.choice`](https://docs.scipy.org/doc/numpy-1.15.0/reference/generated/numpy.random.choice.html) to simulate `n` families, each with two children."
   ]
  },
  {
   "cell_type": "code",
   "execution_count": 2,
   "metadata": {},
   "outputs": [
    {
     "data": {
      "text/plain": [
       "array([1, 2, 1, ..., 2, 1, 1])"
      ]
     },
     "execution_count": 2,
     "metadata": {},
     "output_type": "execute_result"
    }
   ],
   "source": [
    "n = 10**5\n",
    "child1 = np.random.choice([1,2], n, replace=True) \n",
    "child2 = np.random.choice([1,2], n, replace=True) \n",
    "\n",
    "child1"
   ]
  },
  {
   "cell_type": "markdown",
   "metadata": {},
   "source": [
    "Here `child1` is a Numpy `array` of length `n`, where each element is a 1 or a 2. Letting 1 stand for \"girl\" and 2 stand for \"boy\", this `array` represents the gender of the elder child in each of the `n` families. Similarly, `child2` represents the gender of the younger child in each family. \n",
    "\n",
    "Alternatively, we could have used"
   ]
  },
  {
   "cell_type": "code",
   "execution_count": 3,
   "metadata": {},
   "outputs": [
    {
     "data": {
      "text/plain": [
       "array(['boy', 'boy', 'girl', ..., 'girl', 'boy', 'boy'],\n",
       "      dtype='<U4')"
      ]
     },
     "execution_count": 3,
     "metadata": {},
     "output_type": "execute_result"
    }
   ],
   "source": [
    "np.random.choice([\"girl\", \"boy\"], n, replace=True)"
   ]
  },
  {
   "cell_type": "markdown",
   "metadata": {},
   "source": [
    "but it is more convenient working with numerical values.\n",
    "\n",
    "Let $A$ be the event that both children are girls and $B$ the event that the elder is a girl. Following the frequentist interpretation, we count the number of repetitions where $B$ occurred and name it `n_b`, and we also count the number of repetitions where $A \\cap B$ occurred and name it `n_ab`. Finally, we divide `n_ab` by ` n_b` to approximate $P(A|B)$."
   ]
  },
  {
   "cell_type": "code",
   "execution_count": 4,
   "metadata": {},
   "outputs": [
    {
     "name": "stdout",
     "output_type": "stream",
     "text": [
      "P(both girls | elder is girl) = 0.50\n"
     ]
    }
   ],
   "source": [
    "n_b = np.sum(child1==1)\n",
    "n_ab = np.sum((child1==1) & (child2==1))\n",
    "\n",
    "print('P(both girls | elder is girl) = {:0.2F}'.format(n_ab / n_b))"
   ]
  },
  {
   "cell_type": "markdown",
   "metadata": {},
   "source": [
    "The ampersand `&` is an elementwise $AND$, so `n_ab` is the number of families where both the first child and the second child are girls. When we ran this code, we got 0.50, confirming our answer $P(\\text{both girls | elder is a girl}) = 1/2$. \n",
    "\n",
    "Now let $A$ be the event that both children are girls and $B$ the event that at least one of the children is a girl. Then $A \\cap B$ is the same, but `n_b` needs to count the number of families where at least one child is a girl. This is accomplished with the elementwise $OR$ operator `|` (this is not a conditioning bar; it is an inclusive $OR$, returning `True` if at least one element is `True`)."
   ]
  },
  {
   "cell_type": "code",
   "execution_count": 5,
   "metadata": {},
   "outputs": [
    {
     "name": "stdout",
     "output_type": "stream",
     "text": [
      "P(both girls | at least one girl) = 0.34\n"
     ]
    }
   ],
   "source": [
    "n_b = np.sum((child1==1) | (child2==2))\n",
    "n_ab = np.sum((child1==1) & (child2==1))\n",
    "\n",
    "print('P(both girls | at least one girl) = {:0.2F}'.format(n_ab / n_b))"
   ]
  },
  {
   "cell_type": "markdown",
   "metadata": {},
   "source": [
    "For us, the result was 0.33, confirming that $P(\\text{both girls | at least one girl}) = 1/3$."
   ]
  },
  {
   "cell_type": "markdown",
   "metadata": {},
   "source": [
    "## Monty Hall simulation\n",
    "\n",
    "Many long, bitter debates about the Monty Hall problem could have been averted by trying it out with a simulation. To study how well the never-switch strategy performs, let's generate $10^{5}$ runs of the Monty Hall game. To simplify notation, assume the contestant always chooses door 1. Then we can generate a vector specifying which door has the car for each repetition:\n"
   ]
  },
  {
   "cell_type": "code",
   "execution_count": 6,
   "metadata": {},
   "outputs": [
    {
     "name": "stdout",
     "output_type": "stream",
     "text": [
      "The never-switch strategy has success rate 0.334\n"
     ]
    }
   ],
   "source": [
    "n = 10**5\n",
    "cardoor = np.random.choice([1,2,3] , n, replace=True)\n",
    "\n",
    "print('The never-switch strategy has success rate {:.3F}'.format(np.sum(cardoor==1) / n))"
   ]
  },
  {
   "cell_type": "markdown",
   "metadata": {},
   "source": [
    "At this point we could generate the vector specifying which doors Monty opens, but that's unnecessary since the never-switch strategy succeeds if and only if door 1 has the car! So the fraction of times when the never-switch strategy succeeds is `numpy.sum(cardoor==1)/n`, which was 0.334 in our simulation. This is very close to 1/3.\n",
    "\n",
    "What if we want to play the Monty Hall game interactively? We can do this by programming a Python class that would let us play interactively or let us run a simulation across many trials."
   ]
  },
  {
   "cell_type": "code",
   "execution_count": 7,
   "metadata": {
    "collapsed": true
   },
   "outputs": [],
   "source": [
    "class Monty():\n",
    "    \n",
    "    def __init__(self):\n",
    "        \"\"\" Object creation function. \"\"\"\n",
    "        self.state = 0\n",
    "        self.doors = np.array([1, 2, 3])\n",
    "        self.prepare_game()\n",
    "\n",
    "    def get_success_rate(self):\n",
    "        \"\"\" Return the rate of success in this series of plays: num. wins / num. plays. \"\"\"\n",
    "        if self.num_plays > 0:\n",
    "            return 1.0*self.num_wins / self.num_plays\n",
    "        else:\n",
    "            return 0.0\n",
    "\n",
    "    def prepare_game(self):\n",
    "        \"\"\" Prepare initial values for game play, and randonly choose the door with the car. \"\"\"\n",
    "        self.num_plays = 0\n",
    "        self.num_wins = 0\n",
    "        self.cardoor = np.random.choice(self.doors)\n",
    "        self.players_choice = None\n",
    "        self.montys_choice = None\n",
    "       \n",
    "    def choose_door(self, door):\n",
    "        \"\"\" Player chooses a door at state 0. Monty will choose a remaining door to reveal a goat. \"\"\"\n",
    "        self.state = 1\n",
    "        self.players_choice = door\n",
    "        self.montys_choice = np.random.choice(self.doors[(self.doors!=self.players_choice) & (self.doors!=self.cardoor)])\n",
    "        \n",
    "    def switch_door(self, do_switch):\n",
    "        \"\"\" Player has the option to switch from the door she has chosen to the remaining unopened door. \n",
    "        \n",
    "            If the door the player has selected is the same as the cardoor, then num. of wins is incremented.\n",
    "            \n",
    "            Finally, number of plays will be incremented.\n",
    "        \"\"\"\n",
    "        self.state = 2\n",
    "        if do_switch:\n",
    "            self.players_choice = self.doors[(self.doors!=self.players_choice) & (self.doors!=self.montys_choice)][0]\n",
    "        if self.players_choice == self.cardoor:\n",
    "            self.num_wins += 1\n",
    "        self.num_plays += 1\n",
    "        \n",
    "    def continue_play(self):\n",
    "        \"\"\" Player opts to continue playing in this series. \n",
    "        \n",
    "            The game is returned to state 0, but the counters for num. wins and num. plays\n",
    "            will be kept intact and running.\n",
    "            \n",
    "            A new cardoor is randomly chosen.\n",
    "        \"\"\"\n",
    "        self.state = 0\n",
    "        self.cardoor = np.random.choice(self.doors)\n",
    "        self.players_choice = None\n",
    "        self.montys_choice = None\n",
    "            \n",
    "    def reset(self):\n",
    "        \"\"\" The entire game state is returned to its initial state. \n",
    "        \n",
    "            All counters and variable holdling state are re-initialized.\n",
    "        \"\"\"\n",
    "        self.state = 0\n",
    "        self.prepare_game()"
   ]
  },
  {
   "cell_type": "markdown",
   "metadata": {},
   "source": [
    "In brief:\n",
    "* The `Monty` class represents a simple state model for the game.\n",
    "* When an instance of the `Monty` game is created, game state-holding variables are initialized and a `cardoor` randomly chosen.\n",
    "* After the player initially picks a door, `Monty` will choose a remaining door that does not have car behind it.\n",
    "* The player can then choose to switch to the other, remaining unopened door, or stick with her initial choice.\n",
    "* `Monty` will then see if the player wins or not, and updates the state-holding variables for num. wins and num. plays.\n",
    "* The player can continue playing, or stop and reset the game to its original state.\n",
    "\n",
    "### As a short simulation program\n",
    "\n",
    "Here is an example showing how to use the `Monty` class above to run a simulation to see how often the switching strategy succeeds."
   ]
  },
  {
   "cell_type": "code",
   "execution_count": 8,
   "metadata": {},
   "outputs": [
    {
     "name": "stdout",
     "output_type": "stream",
     "text": [
      "In 100000 trials, the switching strategy won 66821 times.\n",
      "Success rate is 0.668\n"
     ]
    }
   ],
   "source": [
    "trials = 10**5\n",
    "\n",
    "game = Monty()\n",
    "for _ in range(trials):\n",
    "    game.choose_door(np.random.choice([1,2,3]))\n",
    "    game.switch_door(True)\n",
    "    game.continue_play()\n",
    "\n",
    "print('In {} trials, the switching strategy won {} times.'.format(game.num_plays, game.num_wins))\n",
    "print('Success rate is {:.3f}'.format(game.get_success_rate()))"
   ]
  },
  {
   "cell_type": "markdown",
   "metadata": {},
   "source": [
    "### As an interactive widget in this Jupyter notebook\n",
    "\n",
    "The `Monty` Python class above can also be used as an engine to power an interactive widget that lets you play the three-door game _in the browser_ using [`ipywidgets` ](https://ipywidgets.readthedocs.io/en/stable/user_guide.html)."
   ]
  },
  {
   "cell_type": "code",
   "execution_count": 9,
   "metadata": {
    "collapsed": true
   },
   "outputs": [],
   "source": [
    "from ipywidgets import Box, Button, ButtonStyle, FloatText, GridBox, IntText, Label, Layout, HBox\n",
    "from IPython.display import display"
   ]
  },
  {
   "cell_type": "markdown",
   "metadata": {},
   "source": [
    "The doors in the game are represented by [`ipywidgets.Button`](https://ipywidgets.readthedocs.io/en/stable/examples/Widget%20List.html#Button)."
   ]
  },
  {
   "cell_type": "code",
   "execution_count": 10,
   "metadata": {
    "collapsed": true
   },
   "outputs": [],
   "source": [
    "door1  = Button(description='Door 1', layout=Layout(flex='1 1 auto', width='auto'))\n",
    "door2  = Button(description='Door 2', layout=door1.layout)\n",
    "door3  = Button(description='Door 3', layout=door1.layout)\n",
    "doors_arr = [door1, door2, door3]\n",
    "doors  = Box(doors_arr, layout=Layout(width='auto', grid_area='doors'))"
   ]
  },
  {
   "cell_type": "markdown",
   "metadata": {},
   "source": [
    "State-holding variables in the `Monty` object are displayed using [`ipywidgets.IntText`](https://ipywidgets.readthedocs.io/en/stable/examples/Widget%20List.html#IntText) (for the `num_wins` and `num_plays`); and [`ipywidgets.FloatText`](https://ipywidgets.readthedocs.io/en/stable/examples/Widget%20List.html#FloatText) (for the success rate)."
   ]
  },
  {
   "cell_type": "code",
   "execution_count": 11,
   "metadata": {
    "collapsed": true
   },
   "outputs": [],
   "source": [
    "label1 = Label(value='number of plays', layout=Layout(width='auto', grid_area='label1'))\n",
    "text1  = IntText(disabled=True, layout=Layout(width='auto', grid_area='text1'))\n",
    "\n",
    "label2 = Label(value='number of wins', layout=Layout(width='auto', grid_area='label2'))\n",
    "text2  = IntText(disabled=True, layout=Layout(width='auto', grid_area='text2'))\n",
    "\n",
    "label3 = Label(value='success rate', layout=Layout(width='auto', grid_area='label3'))\n",
    "text3  = FloatText(disabled=True, layout=Layout(width='auto', grid_area='text3'))"
   ]
  },
  {
   "cell_type": "markdown",
   "metadata": {},
   "source": [
    "[`ipywidgets.Label`](https://ipywidgets.readthedocs.io/en/stable/examples/Widget%20List.html#Label) is used to display the title and descriptive text in the game widget."
   ]
  },
  {
   "cell_type": "code",
   "execution_count": 12,
   "metadata": {},
   "outputs": [],
   "source": [
    "banner = Box([Label(value='Interactive widget: Monty Hall problem', \n",
    "                    layout=Layout(width='50%'))], \n",
    "             layout=Layout(width='auto', justify_content='center', grid_area='banner'))\n",
    "\n",
    "status = Label(value='Pick a door...', layout=Layout(width='auto', grid_area='status'))"
   ]
  },
  {
   "cell_type": "markdown",
   "metadata": {},
   "source": [
    "Buttons allowing for further user actions are located at the bottom of the widget.\n",
    "\n",
    "* The `reveal` button is used to show what's behind all of the doors after the player makes her final choice.\n",
    "* After the player completes a round of play, she can click the `continue` button to keep counting game state (num. wins and num. plays)\n",
    "* The `reset` button lets the player return the game to its original state after completing a round of play."
   ]
  },
  {
   "cell_type": "code",
   "execution_count": 13,
   "metadata": {},
   "outputs": [],
   "source": [
    "button_layout = Layout(flex='1 1 auto', width='auto')\n",
    "reveal = Button(description='reveal', tooltip='open selected door', layout=button_layout, disabled=True)\n",
    "contin = Button(description='continue', tooltip='continue play', layout=button_layout, disabled=True)\n",
    "reset  = Button(description='reset', tooltip='reset game', layout=button_layout, disabled=False)\n",
    "actions  = Box([reveal, contin, reset], layout=Layout(width='auto', grid_area='actions'))"
   ]
  },
  {
   "cell_type": "markdown",
   "metadata": {},
   "source": [
    "[`ipywidgets.GridBox`](https://ipywidgets.readthedocs.io/en/stable/examples/Widget%20Styling.html#The-Grid-layout) helps us lay out the user interface elements for the `Monty` game widget."
   ]
  },
  {
   "cell_type": "code",
   "execution_count": 14,
   "metadata": {},
   "outputs": [],
   "source": [
    "ui = GridBox(children=[banner, doors, label1, text1, label2, text2, label3, text3, status, actions],\n",
    "        layout=Layout(\n",
    "            width='50%',\n",
    "            grid_template_rows='auto auto auto auto auto auto auto',\n",
    "            grid_template_columns='25% 25% 25% 25%',\n",
    "            grid_template_areas='''\n",
    "                \"banner banner banner banner\"\n",
    "                \"doors doors doors doors\"\n",
    "                \"label1 label1 text1 text1\"\n",
    "                \"label2 label2 text2 text2\"\n",
    "                \"label3 label3 text3 text3\"\n",
    "                \"status status status status\"\n",
    "                \". . actions actions\"\n",
    "            '''\n",
    "        )\n",
    ")"
   ]
  },
  {
   "cell_type": "markdown",
   "metadata": {},
   "source": [
    "We lastly create some functions to connect the widget to the `Monty` game object. These functions adapt player action [events](https://ipywidgets.readthedocs.io/en/stable/examples/Widget%20Events.html#Example) to state changes in the `Monty` object, and then update the widget user interface accordingly."
   ]
  },
  {
   "cell_type": "code",
   "execution_count": 15,
   "metadata": {},
   "outputs": [
    {
     "data": {
      "application/vnd.jupyter.widget-view+json": {
       "model_id": "b8bce51a770c48e6aeeab0ccaca8b21c",
       "version_major": 2,
       "version_minor": 0
      },
      "text/plain": [
       "GridBox(children=(Box(children=(Label(value='Interactive widget: Monty Hall problem', layout=Layout(width='50%…"
      ]
     },
     "metadata": {},
     "output_type": "display_data"
    }
   ],
   "source": [
    "uigame = Monty()\n",
    "\n",
    "def reset_ui():\n",
    "    \"\"\" Return widget elements to their initial state. \"\"\"\n",
    "    for i,d in enumerate(doors_arr):\n",
    "        d.description = 'Door {}'.format(i+1)\n",
    "        d.disabled = False\n",
    "        d.icon = ''\n",
    "        d.button_style = ''\n",
    "            \n",
    "    reveal.disabled = True\n",
    "    contin.disabled = True\n",
    "    reset.disabled = False\n",
    "    \n",
    "def update_status(new_status):\n",
    "    \"\"\" Update the widget text fields for displaying present game status. \"\"\"\n",
    "    text1.value = uigame.num_plays\n",
    "    text2.value = uigame.num_wins\n",
    "    text3.value = uigame.get_success_rate()\n",
    "    status.value = new_status\n",
    "    \n",
    "def update_ui_reveal():\n",
    "    \"\"\" Helper function to update the widget after the player clicks the reveal button. \"\"\"\n",
    "    if uigame.players_choice == uigame.cardoor:\n",
    "        new_status = 'You win! Continue playing?'\n",
    "    else:\n",
    "        new_status = 'Sorry, you lose. Continue playing?'\n",
    "\n",
    "    for i,d in enumerate(doors_arr):\n",
    "        d.disabled = True\n",
    "        if uigame.cardoor == i+1:\n",
    "            d.description = 'car'\n",
    "        else:\n",
    "            d.description = 'goat'\n",
    "        if uigame.players_choice == i+1:\n",
    "            if uigame.players_choice == uigame.cardoor:\n",
    "                d.button_style = 'success'   \n",
    "                d.icon = 'check'\n",
    "            else:\n",
    "                d.button_style = 'danger' \n",
    "                d.icon = 'times'\n",
    "    update_status(new_status)\n",
    "    reveal.disabled = True\n",
    "    contin.disabled = False\n",
    "    reset.disabled = False    \n",
    "    \n",
    "def on_button_clicked(b):  \n",
    "    \"\"\"  Event-handling function that maps button click events in the widget \n",
    "         to corresponding functions in Monty, and updates the user interface\n",
    "         according to the present game state.\n",
    "    \"\"\"\n",
    "    if uigame.state == 0:\n",
    "        if b.description in ['Door 1', 'Door 2', 'Door 3']:\n",
    "            c = int(b.description.split()[1])\n",
    "            uigame.choose_door(c)\n",
    "\n",
    "            b.disabled = True\n",
    "            b.button_style = 'info'\n",
    "\n",
    "            m = doors_arr[uigame.montys_choice-1]\n",
    "            m.disabled = True\n",
    "            m.description = 'goat'\n",
    "\n",
    "            unopened = uigame.doors[(uigame.doors != uigame.players_choice) &\n",
    "                                        (uigame.doors != uigame.montys_choice)][0]\n",
    "            status.value = 'Monty reveals a goat behind Door {}. Click Door {} to switch, or \\'reveal\\' Door {}.' \\\n",
    "                            .format(uigame.montys_choice, unopened, uigame.players_choice)\n",
    "\n",
    "            reveal.disabled = False\n",
    "            reset.disabled = False\n",
    "        elif b.description == 'reset':\n",
    "                uigame.reset()\n",
    "                reset_ui()\n",
    "                update_status('Pick a door...')    \n",
    "    elif uigame.state == 1:\n",
    "        if b.description in ['Door 1', 'Door 2', 'Door 3']:\n",
    "            prev_choice = uigame.players_choice\n",
    "            uigame.switch_door(True)\n",
    "            \n",
    "            pb = doors_arr[prev_choice-1]\n",
    "            pb.icon = ''\n",
    "            pb.button_style = ''\n",
    "            \n",
    "            b.disabled = True\n",
    "            b.button_style = 'info'\n",
    "            \n",
    "            status.value = 'Now click \\'reveal\\' to see what\\'s behind Door {}.'.format(uigame.players_choice)\n",
    "            \n",
    "        elif b.description == 'reset':\n",
    "            uigame.reset()\n",
    "            reset_ui()\n",
    "            update_status('Pick a door...')\n",
    "        elif b.description == 'reveal':\n",
    "            uigame.switch_door(False)\n",
    "            update_ui_reveal()\n",
    "    elif uigame.state == 2:\n",
    "        if b.description == 'reveal':\n",
    "            update_ui_reveal()  \n",
    "        else:            \n",
    "            if b.description == 'continue':\n",
    "                uigame.continue_play()\n",
    "                reset_ui()\n",
    "                update_status('Pick a door once more...')\n",
    "            elif b.description == 'reset':\n",
    "                uigame.reset()\n",
    "                reset_ui()\n",
    "                update_status('Pick a door...')\n",
    "\n",
    "# hook up all buttons to our event-handling function\n",
    "door1.on_click(on_button_clicked)\n",
    "door2.on_click(on_button_clicked)\n",
    "door3.on_click(on_button_clicked)\n",
    "reveal.on_click(on_button_clicked)\n",
    "contin.on_click(on_button_clicked)\n",
    "reset.on_click(on_button_clicked)\n",
    "\n",
    "display(ui)"
   ]
  },
  {
   "cell_type": "markdown",
   "metadata": {},
   "source": [
    "How to play:\n",
    "* Click a door to select.\n",
    "* Monty will select a remaining door and open to reveal a goat.\n",
    "* Click the `reveal` button to open your selected door.\n",
    "* Or click the remaining unopened to switch doors, and then click `reveal`.\n",
    "* Click the `continue` button to keep playing.\n",
    "* You may click the `reset` button at any time to return the game back to its initial state."
   ]
  },
  {
   "cell_type": "markdown",
   "metadata": {},
   "source": [
    "----\n",
    "\n",
    "&copy; Blitzstein, Joseph K.; Hwang, Jessica. Introduction to Probability (Chapman & Hall/CRC Texts in Statistical Science)."
   ]
  }
 ],
 "metadata": {
  "kernelspec": {
   "display_name": "Python 3",
   "language": "python",
   "name": "python3"
  },
  "language_info": {
   "codemirror_mode": {
    "name": "ipython",
    "version": 3
   },
   "file_extension": ".py",
   "mimetype": "text/x-python",
   "name": "python",
   "nbconvert_exporter": "python",
   "pygments_lexer": "ipython3",
   "version": "3.6.3"
  }
 },
 "nbformat": 4,
 "nbformat_minor": 2
}
