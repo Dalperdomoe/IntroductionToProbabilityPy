{
 "cells": [
  {
   "cell_type": "markdown",
   "metadata": {},
   "source": [
    "# Chapter 13: Poisson Processes\n",
    " \n",
    "This Jupyter notebook is the Python equivalent of the R code in section 13.5 R, pp. 534 - 536, [Introduction to Probability, 1st Edition](https://www.crcpress.com/Introduction-to-Probability/Blitzstein-Hwang/p/book/9781466575578), Blitzstein & Hwang.\n",
    "\n",
    "----"
   ]
  },
  {
   "cell_type": "code",
   "execution_count": 1,
   "metadata": {},
   "outputs": [],
   "source": [
    "import numpy as np"
   ]
  },
  {
   "cell_type": "markdown",
   "metadata": {},
   "source": [
    "## 1D Poisson process\n",
    "\n",
    "In Chapter 5, we discussed how to simulate a specified number of arrivals from a one-dimensional Poisson process by using the fact that the interarrival times are i.i.d. Exponentials. In this chapter, Story 13.2.3 tells us how to simulate a Poisson process within a specified interval $(0, \\left.L\\right]$. We first generate the number of arrivals $N(L)$, which is distributed $Pois(\\lambda \\, L)$. Conditional on $N(L) = n$, the arrival times are distributed as the order statistics of n i.i.d. $Unif(0, L)$ r.v.s. The following code simulates arrivals from a Poisson process with rate 10 in the interval $(0, \\left. 5\\right]$:"
   ]
  },
  {
   "cell_type": "raw",
   "metadata": {},
   "source": [
    "L <- 5 \n",
    "lambda <- 10 \n",
    "n <- rpois(1,lambda*L) \n",
    "t <- sort(runif(n,0,L))"
   ]
  },
  {
   "cell_type": "markdown",
   "metadata": {},
   "source": [
    "To visualize the Poisson process we have generated, we can plot the cumulative number of arrivals $N(t)$ as a function of $t$:"
   ]
  },
  {
   "cell_type": "raw",
   "metadata": {},
   "source": [
    "plot(t,1:n,type=\"s\")"
   ]
  },
  {
   "cell_type": "markdown",
   "metadata": {},
   "source": [
    "This produces a staircase plot as in Figure 13.8.\n",
    "\n",
    "FIGURE 13.8 \n",
    "Number of arrivals in a Poisson process with rate 10 in the interval $(0, \\left. 5 \\right]$."
   ]
  },
  {
   "cell_type": "markdown",
   "metadata": {},
   "source": [
    "## Thinning\n",
    "\n",
    "The following code starts with a vector of arrival times $t$ and the corresponding number of arrivals $n$, generated according to the previous section. For each arrival, we flip a coin with probability $p$ of Heads; these coin tosses are stored in the vector $y$. Finally, the arrivals for which the coin landed Heads are labeled as type-1; the rest are labeled as type-2. The resulting vectors of arrival times $t_1$ and $t_2$ are realizations of independent Poisson processes, by Theorem 13.2.13. To perform this in R with $p = 0.3$, we can type"
   ]
  },
  {
   "cell_type": "raw",
   "metadata": {},
   "source": [
    "p <- 0.3 \n",
    "y <- rbinom(n,1,p) \n",
    "t1 <- t[y==1]\n",
    "t2 <- t[y==0]"
   ]
  },
  {
   "cell_type": "markdown",
   "metadata": {},
   "source": [
    "As before, we can plot the number of arrivals in each Poisson process, $N_{1}(t)$ and $N_{2}(t)$, as a function of $t$."
   ]
  },
  {
   "cell_type": "markdown",
   "metadata": {},
   "source": [
    "## 2D Poisson process \n",
    "\n",
    "Simulating a 2D Poisson process is nearly as straightforward as simulating a 1D Poisson process. In the square $(0, \\left. L\\right] \\times (0, \\left. L \\right]$, the number of arrivals is distributed $Pois(\\lambda \\, L2)$. Conditional on the number of arrivals, the locations of the arrivals are Uniform over the square, so by Example 7.1.22, their horizontal and vertical coordinates can be generated independently:"
   ]
  },
  {
   "cell_type": "raw",
   "metadata": {},
   "source": [
    "L <- 5 \n",
    "lambda <- 10 \n",
    "n <- rpois(1,lambda*L^2) \n",
    "x <- runif(n,0,L) \n",
    "y <- runif(n,0,L)"
   ]
  },
  {
   "cell_type": "markdown",
   "metadata": {},
   "source": [
    "We can then easily plot the locations of the arrivals as in Figure 13.7:"
   ]
  },
  {
   "cell_type": "raw",
   "metadata": {},
   "source": [
    "plot(x,y,pch=4)"
   ]
  },
  {
   "cell_type": "markdown",
   "metadata": {},
   "source": [
    "----\n",
    "\n",
    "&copy; Blitzstein, Joseph K.; Hwang, Jessica. Introduction to Probability (Chapman & Hall/CRC Texts in Statistical Science)."
   ]
  }
 ],
 "metadata": {
  "kernelspec": {
   "display_name": "Python 3",
   "language": "python",
   "name": "python3"
  },
  "language_info": {
   "codemirror_mode": {
    "name": "ipython",
    "version": 3
   },
   "file_extension": ".py",
   "mimetype": "text/x-python",
   "name": "python",
   "nbconvert_exporter": "python",
   "pygments_lexer": "ipython3",
   "version": "3.6.3"
  }
 },
 "nbformat": 4,
 "nbformat_minor": 2
}
