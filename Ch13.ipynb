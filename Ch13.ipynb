{
 "cells": [
  {
   "cell_type": "markdown",
   "metadata": {},
   "source": [
    "# Chapter 13: Poisson Processes\n",
    " \n",
    "This Jupyter notebook is the Python equivalent of the R code in section 13.5 R, pp. 534 - 536, [Introduction to Probability, 1st Edition](https://www.crcpress.com/Introduction-to-Probability/Blitzstein-Hwang/p/book/9781466575578), Blitzstein & Hwang.\n",
    "\n",
    "----"
   ]
  },
  {
   "cell_type": "code",
   "execution_count": null,
   "metadata": {},
   "outputs": [],
   "source": [
    "import matplotlib.pyplot as plt\n",
    "import numpy as np\n",
    "\n",
    "%matplotlib inline"
   ]
  },
  {
   "cell_type": "markdown",
   "metadata": {},
   "source": [
    "## 1D Poisson process\n",
    "\n",
    "In Chapter 5, we discussed how to simulate a specified number of arrivals from a one-dimensional Poisson process by using the fact that the interarrival times are i.i.d. Exponentials. In this chapter, Story 13.2.3 tells us how to simulate a Poisson process within a specified interval $(0, \\left.L\\right]$. We first generate the number of arrivals $N(L)$, which is distributed $Pois(\\lambda L)$. Conditional on $N(L) = n$, the arrival times are distributed as the order statistics of $n$ i.i.d. $Unif(0, L)$ r.v.s. The following code simulates arrivals from a Poisson process with rate 10 in the interval $(0, \\left. 5\\right]$:"
   ]
  },
  {
   "cell_type": "code",
   "execution_count": null,
   "metadata": {},
   "outputs": [],
   "source": [
    "np.random.seed(2971215073)\n",
    "\n",
    "from scipy.stats import poisson, uniform\n",
    "\n",
    "L = 5 \n",
    "lambd = 10 \n",
    "n = poisson.rvs(lambd*L, size=1)[0]\n",
    "t = np.sort(uniform.rvs(loc=0, scale=(L-0), size=n))"
   ]
  },
  {
   "cell_type": "markdown",
   "metadata": {},
   "source": [
    "To visualize the Poisson process we have generated, we can plot the cumulative number of arrivals $N(t)$ as a function of $t$:"
   ]
  },
  {
   "cell_type": "code",
   "execution_count": null,
   "metadata": {},
   "outputs": [],
   "source": [
    "plt.figure(figsize=(12, 4))\n",
    "\n",
    "nt = np.arange(1, n+1)\n",
    "plt.plot(t, nt, linestyle='-', drawstyle='steps')\n",
    "\n",
    "plt.xlabel(r'$t$')\n",
    "plt.xlim([0,5])\n",
    "plt.ylabel(r'$N(t)$')\n",
    "plt.title(r'Number of arrivals in Poisson process, rate=10, in interval (0,5]')\n",
    "\n",
    "plt.show()"
   ]
  },
  {
   "cell_type": "markdown",
   "metadata": {},
   "source": [
    "This produces a staircase plot as in Figure 13.8."
   ]
  },
  {
   "cell_type": "markdown",
   "metadata": {},
   "source": [
    "## Thinning\n",
    "\n",
    "The following code starts with an array of arrival times `t` and the corresponding number of arrivals `n`, generated according to the previous section. For each arrival, we flip a coin with probability `p` of Heads; these coin tosses are stored in the array `y`. Finally, the arrivals for which the coin landed Heads are labeled as type-1; the rest are labeled as type-2. The resulting arrays of arrival times $t_1$ and $t_2$ are realizations of independent Poisson processes, by Theorem 13.2.13. To perform this with $p = 0.3$, we can execute"
   ]
  },
  {
   "cell_type": "code",
   "execution_count": null,
   "metadata": {},
   "outputs": [],
   "source": [
    "np.random.seed(1)\n",
    "\n",
    "from scipy.stats import binom\n",
    "\n",
    "p = 0.3 \n",
    "y = binom.rvs(1, p, size=n)\n",
    "\n",
    "t1 = t[np.where(y==1)]\n",
    "t2 = t[np.where(y==0)]"
   ]
  },
  {
   "cell_type": "markdown",
   "metadata": {},
   "source": [
    "As before, we can plot the number of arrivals in each Poisson process, $N_{1}(t)$ and $N_{2}(t)$, as a function of $t$."
   ]
  },
  {
   "cell_type": "code",
   "execution_count": null,
   "metadata": {},
   "outputs": [],
   "source": [
    "_, (ax1, ax2) = plt.subplots(1, 2, sharey=True, figsize=(12, 4))\n",
    "\n",
    "# graph for t1\n",
    "nt1 = np.arange(1, t1.size+1)\n",
    "ax1.plot(t1, nt1, linestyle='-', drawstyle='steps', color='#ef8a62', label='rate=3')\n",
    "ax1.set_xlabel(r'$t$')\n",
    "ax1.set_xlim([0,5])\n",
    "ax1.set_ylabel(r'$N_{1}(t)$')\n",
    "ax1.legend()\n",
    "\n",
    "# graph for t2\n",
    "nt2 = np.arange(1, t2.size+1)\n",
    "ax2.plot(t2, nt2, linestyle='-', drawstyle='steps', color='#67a9cf', label='rate=7')\n",
    "ax2.set_xlabel(r'$t$')\n",
    "ax2.set_xlim([0,5])\n",
    "ax2.set_ylabel(r'$N_{2}(t)$')\n",
    "ax2.legend()\n",
    "\n",
    "plt.suptitle('Number of arrivals in two independent Poisson processes')\n",
    "\n",
    "plt.show()"
   ]
  },
  {
   "cell_type": "markdown",
   "metadata": {},
   "source": [
    "## 2D Poisson process \n",
    "\n",
    "Simulating a 2D Poisson process is nearly as straightforward as simulating a 1D Poisson process. In the square $(0, \\left. L\\right] \\times (0, \\left. L \\right]$, the number of arrivals is distributed $Pois(\\lambda L^2)$. Conditional on the number of arrivals, the locations of the arrivals are Uniform over the square, so by Example 7.1.22, their horizontal and vertical coordinates can be generated independently:"
   ]
  },
  {
   "cell_type": "code",
   "execution_count": null,
   "metadata": {},
   "outputs": [],
   "source": [
    "np.random.seed(1)\n",
    "\n",
    "L = 5 \n",
    "lambd = 10 \n",
    "n = poisson.rvs(lambd*(L**2), size=1)[0]\n",
    "x = uniform.rvs(loc=0, scale=(L-0), size=n)\n",
    "y = uniform.rvs(loc=0, scale=(L-0), size=n)"
   ]
  },
  {
   "cell_type": "markdown",
   "metadata": {},
   "source": [
    "We can then easily plot the locations of the arrivals as in Figure 13.7:"
   ]
  },
  {
   "cell_type": "code",
   "execution_count": null,
   "metadata": {},
   "outputs": [],
   "source": [
    "plt.figure(figsize=(6, 6))\n",
    "\n",
    "plt.plot(x, y, 'x')\n",
    "\n",
    "plt.xlabel(r'$x$')\n",
    "plt.ylabel(r'$y$')\n",
    "plt.title(r'Arrivals in simulated $Pois(\\lambda L^2)$, $\\lambda={}$, $(0,L] \\times (0,L]$'.format(lambd))\n",
    "\n",
    "plt.show()"
   ]
  },
  {
   "cell_type": "markdown",
   "metadata": {},
   "source": [
    "----\n",
    "\n",
    "&copy; Blitzstein, Joseph K.; Hwang, Jessica. Introduction to Probability (Chapman & Hall/CRC Texts in Statistical Science)."
   ]
  }
 ],
 "metadata": {
  "kernelspec": {
   "display_name": "Python 3",
   "language": "python",
   "name": "python3"
  },
  "language_info": {
   "codemirror_mode": {
    "name": "ipython",
    "version": 3
   },
   "file_extension": ".py",
   "mimetype": "text/x-python",
   "name": "python",
   "nbconvert_exporter": "python",
   "pygments_lexer": "ipython3",
   "version": "3.6.3"
  },
  "notebook_info": {
   "author": "Joseph K. Blitzstein, Jessica Hwang",
   "chapter": "13. Poisson Processes",
   "creator": "buruzaemon",
   "section": "13.5",
   "title": "Introduction to Probability, 1st Edition"
  }
 },
 "nbformat": 4,
 "nbformat_minor": 2
}
