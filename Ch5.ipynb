{
 "cells": [
  {
   "cell_type": "markdown",
   "metadata": {},
   "source": [
    "# Chapter 5: Continuous Random Variables\n",
    " \n",
    "This Jupyter notebook is the Python equivalent of the R code in section 5.9 R, pp. 228 - 231, [Introduction to Probability, 1st Edition](https://www.crcpress.com/Introduction-to-Probability/Blitzstein-Hwang/p/book/9781466575578), Blitzstein & Hwang.\n",
    "\n",
    "----"
   ]
  },
  {
   "cell_type": "code",
   "execution_count": 1,
   "metadata": {},
   "outputs": [],
   "source": [
    "import numpy as np"
   ]
  },
  {
   "cell_type": "markdown",
   "metadata": {},
   "source": [
    "## Python, SciPy and Matplotlib\n",
    "\n",
    "In this section we will introduce continuous distributions in Python and SciPy, learn how to make basic plots, demonstrate the universality of the Uniform by simulation, and simulate arrival times in a Poisson process."
   ]
  },
  {
   "cell_type": "markdown",
   "metadata": {},
   "source": [
    "## Uniform, Normal, and Exponential distributions \n",
    "\n",
    "For [continuous distributions in `scipy.stats`](https://docs.scipy.org/doc/scipy/reference/tutorial/stats/continuous.html), the `pdf` function gives the PDF, the `cdf` function gives the CDF, and the `rvs` function generates random numbers from the continuous distribution. This is in keeping with the application programming interface of the [discrete statistical distributions in `scipy.stats`](https://docs.scipy.org/doc/scipy/reference/tutorial/stats/discrete.html). Thus, we have the following functions: \n",
    "\n",
    "### Uniform\n",
    "[`scipy.stats.uniform`](https://docs.scipy.org/doc/scipy/reference/generated/scipy.stats.uniform.html#scipy.stats.uniform) provides functions for Uniform continuous random variables. \n",
    "* To evaluate the $Unif(a, b)$ PDF at $x$, we use `uniform.pdf(x, a, b)`. \n",
    "* For the CDF, we use `uniform.cdf(x, a, b)`. \n",
    "* To generate $n$ realizations from the $Unif(a, b)$ distribution, we use `uniform.rvs(a, b, size=n)`. "
   ]
  },
  {
   "cell_type": "code",
   "execution_count": 2,
   "metadata": {},
   "outputs": [
    {
     "name": "stdout",
     "output_type": "stream",
     "text": [
      "PDF of Unif(0, 4) evaluated at 3 is 0.25\n",
      "\n",
      "CDF of Unif(0, 4) evaluated at 3 is 0.75\n",
      "\n",
      "Generating 10 realizations from Unif(0, 4):\n",
      "[ 3.24085002  2.48793265  0.69337744  3.98212677  3.53906749  0.19890551\n",
      "  3.30252222  2.37991343  1.42342695  1.92222338]\n"
     ]
    }
   ],
   "source": [
    "# seed the random number generator\n",
    "np.random.seed(1597)\n",
    "\n",
    "from scipy.stats import uniform\n",
    "\n",
    "# to learn more about scipy.stats,uniform un-comment ouf the following line\n",
    "#print(uniform.__doc__)\n",
    "\n",
    "a = 0\n",
    "b = 4\n",
    "x = 3\n",
    "n = 10\n",
    "\n",
    "print('PDF of Unif({}, {}) evaluated at {} is {}\\n'.format(a, b, x, uniform.pdf(x, a, b)))\n",
    "\n",
    "print('CDF of Unif({}, {}) evaluated at {} is {}\\n'.format(a, b, x, uniform.cdf(x, a, b)))\n",
    "\n",
    "print('Generating {} realizations from Unif({}, {}):\\n{}'.format(n, a, b, uniform.rvs(a, b, size=n)))"
   ]
  },
  {
   "cell_type": "markdown",
   "metadata": {},
   "source": [
    "### Normal\n",
    "[`scipy.stats.norm`](https://docs.scipy.org/doc/scipy/reference/generated/scipy.stats.norm.html#scipy.stats.norm) provides functions for normal continuous random variables. \n",
    "\n",
    "* To evaluate the $N(\\mu, \\sigma^2)$ PDF at $x$, we use `norm.pdf(x, loc, scale)`, where the parameter `loc` corresponds to $\\mu$ and `scale` corresponds to standard deviation $\\sigma$ (and **not** variance $\\sigma^2$).\n",
    "* For the CDF, we use `norm.cdf(x, loc, scale)`. \n",
    "* To generate $n$ realizations from the $N(\\mu, \\sigma^2)$ distribution, we use `norm.rvs(loc, scale, size=n)`. "
   ]
  },
  {
   "cell_type": "code",
   "execution_count": 3,
   "metadata": {},
   "outputs": [
    {
     "name": "stdout",
     "output_type": "stream",
     "text": [
      "PDF of N(0.0, 2.0) evaluated at 1.5 is 0.15056871607740221\n",
      "\n",
      "CDF of N(0.0, 2.0) evaluated at 1.5 is 0.7733726476231317\n",
      "\n",
      "Generating 10 realizations from N(0.0, 2.0):\n",
      "[-4.56890553  1.4163793  -0.72812069  1.80610792 -1.5542524   0.4551897\n",
      " -1.82794816  1.58959742 -3.26902153 -2.71002864]\n"
     ]
    }
   ],
   "source": [
    "np.random.seed(2584)\n",
    "\n",
    "from scipy.stats import norm\n",
    "\n",
    "# to learn more about scipy.stats,norm un-comment ouf the following line\n",
    "#print(norm.__doc__)\n",
    "\n",
    "mu = 0.0\n",
    "sigma = 2.0\n",
    "x = 1.5\n",
    "\n",
    "print('PDF of N({}, {}) evaluated at {} is {}\\n'.format(mu, sigma, x, norm.pdf(x, mu, sigma)))\n",
    "\n",
    "print('CDF of N({}, {}) evaluated at {} is {}\\n'.format(mu, sigma, x, norm.cdf(x, mu, sigma)))\n",
    "\n",
    "print('Generating {} realizations from N({}, {}):\\n{}'.format(n, mu, sigma, norm.rvs(mu, sigma, size=n)))"
   ]
  },
  {
   "cell_type": "markdown",
   "metadata": {},
   "source": [
    "&#x2623; 5.9.1 (Normal parameters in `scipy.stats.norm`). Note that we have to input the standard deviation for `scale`, not the variance! For example, to get the $N(10, 3)$ CDF at 12, we use`norm.cdf(12, 10, np.sqrt(3))`. Ignoring this is a common, disastrous coding error."
   ]
  },
  {
   "cell_type": "code",
   "execution_count": 4,
   "metadata": {},
   "outputs": [
    {
     "name": "stdout",
     "output_type": "stream",
     "text": [
      "N(10, 1.7320508075688772) CDF at 12 is 0.8758934605050381\n"
     ]
    }
   ],
   "source": [
    "loc = 10\n",
    "var = 3\n",
    "scale = np.sqrt(var)\n",
    "x = 12\n",
    "\n",
    "ans = norm.cdf(x, loc, scale)\n",
    "\n",
    "print('N({}, {}) CDF at {} is {}'.format(loc, scale, x, ans))"
   ]
  },
  {
   "cell_type": "markdown",
   "metadata": {},
   "source": [
    "### Exponential\n",
    "[`scipy.stats.expon`](https://docs.scipy.org/doc/scipy/reference/generated/scipy.stats.expon.html#scipy.stats.expon) provides functions for exponential continuous random variables. The probability density function for $Expo(\\lambda)$ is:\n",
    "\n",
    "\\begin{align}\n",
    "  f(x) &= e^-{x}\n",
    "\\end{align}\n",
    "\n",
    "\n",
    "The probability density is defined in the “standardized” form. To shift and/or scale the distribution use the loc and scale parameters. Specifically, expon.pdf(x, loc, scale) is identically equivalent to expon.pdf(y) / scale with y = (x - loc) / scale.\n",
    "\n",
    "* To evaluate the $Expo(\\lambda)$ PDF at $x$, we use `expon.pdf(x, scale=1/lambda)`, where the $\\lambda$ corresponds to `scale=1/lambd`.\n",
    "* For the CDF, we use `expon.cdf(x, scale=1/lambd)`. \n",
    "* To generate $n$ realizations from the $Expo(\\lambda)$ distribution, we use `expon.rvs(scale=1/lambd, size=n)`.   \n",
    "* dexp, pexp, rexp. To evaluate the Expo(λ) PDF at x, we use dexp(x,lambda). For the CDF, we use pexp(x,lambda). To generate n realizations from the Expo(λ) distribution, we use rexp(n,lambda)."
   ]
  },
  {
   "cell_type": "code",
   "execution_count": 5,
   "metadata": {},
   "outputs": [
    {
     "name": "stdout",
     "output_type": "stream",
     "text": [
      "PDF of Expo(2.1) evaluated at 5 is 5.782654363446904e-05\n",
      "\n",
      "CDF of Expo(2.1) evaluated at 5 is 0.9999724635506503\n",
      "\n",
      "Generating 10 realizations from Expo(2.1):\n",
      "[ 0.44907946  0.77554149  1.469014    0.15728342  0.92258566  0.54294386\n",
      "  0.80347768  0.23157762  0.34759354  1.03891708]\n",
      "\n"
     ]
    }
   ],
   "source": [
    "np.random.seed(4181)\n",
    "\n",
    "from scipy.stats import expon\n",
    "\n",
    "# to learn more about scipy.stats,expon un-comment ouf the following line\n",
    "#print(expon.__doc__)\n",
    "\n",
    "lambd = 2.1\n",
    "x = 5\n",
    "\n",
    "expon.pdf(x, scale=1/lambd)\n",
    "\n",
    "print('PDF of Expo({}) evaluated at {} is {}\\n'.format(lambd, x, expon.pdf(x, scale=1/lambd)))\n",
    "\n",
    "print('CDF of Expo({}) evaluated at {} is {}\\n'.format(lambd, x, expon.cdf(x, scale=1/lambd)))\n",
    "\n",
    "print('Generating {} realizations from Expo({}):\\n{}\\n'.format(n, lambd, expon.rvs(scale=1/lambd, size=n)))"
   ]
  },
  {
   "cell_type": "markdown",
   "metadata": {},
   "source": [
    "Due to the importance of location-scale transformations for continuous distributions, SciPy has default parameter settings for each of these three families. The default for the Uniform [`scipy.stats.uniform`](https://docs.scipy.org/doc/scipy/reference/generated/scipy.stats.uniform.html#scipy.stats.uniform) is `loc=0, scale=1`, the default for the Normal [`scipy.stats.norm`](https://docs.scipy.org/doc/scipy/reference/generated/scipy.stats.norm.html#scipy.stats.norm) is `loc=0, scale=1`, and the default for the Exponential [`scipy.stats.expon`](https://docs.scipy.org/doc/scipy/reference/generated/scipy.stats.expon.html#scipy.stats.expon) is `loc=0, scale=1`.\n",
    "\n",
    "For example, `uniform.pdf(0.5)`, with no additional inputs, evaluates the $Unif(0, 1)$ PDF at 0.5."
   ]
  },
  {
   "cell_type": "code",
   "execution_count": 6,
   "metadata": {},
   "outputs": [
    {
     "data": {
      "text/plain": [
       "1.0"
      ]
     },
     "execution_count": 6,
     "metadata": {},
     "output_type": "execute_result"
    }
   ],
   "source": [
    "uniform.pdf(0.5)"
   ]
  },
  {
   "cell_type": "markdown",
   "metadata": {},
   "source": [
    "`norm.rvs(size=10)`, with no additional inputs, generates 10 realizations from the $N (0, 1)$ distribution."
   ]
  },
  {
   "cell_type": "code",
   "execution_count": 7,
   "metadata": {},
   "outputs": [
    {
     "data": {
      "text/plain": [
       "array([ 0.79839927, -0.69769073,  0.34055804, -0.22043838,  0.79782274,\n",
       "       -2.60292799, -1.53866926,  0.93084378,  0.81590117, -0.42043989])"
      ]
     },
     "execution_count": 7,
     "metadata": {},
     "output_type": "execute_result"
    }
   ],
   "source": [
    "norm.rvs(size=10)"
   ]
  },
  {
   "cell_type": "markdown",
   "metadata": {},
   "source": [
    "This means there are two ways to generate a $N(\\mu, \\sigma^2)$ random variable in SciPy. After choosing our values of $\\mu$ and $\\sigma$,"
   ]
  },
  {
   "cell_type": "markdown",
   "metadata": {},
   "source": [
    "mu = 1\n",
    "sigma = 2"
   ]
  },
  {
   "cell_type": "markdown",
   "metadata": {},
   "source": [
    "we can do either of the following:"
   ]
  },
  {
   "cell_type": "code",
   "execution_count": 8,
   "metadata": {},
   "outputs": [
    {
     "name": "stdout",
     "output_type": "stream",
     "text": [
      "norm.rvs(mu, sigma, size=1) = [ 0.99342831]\n",
      "mu + sigma * norm.rvs(size=1) = [ 0.99342831]\n"
     ]
    }
   ],
   "source": [
    "ans1 = norm.rvs(mu, sigma, size=1, random_state=42)\n",
    "ans2 = mu + sigma * norm.rvs(size=1, random_state=42)\n",
    "\n",
    "print('norm.rvs(mu, sigma, size=1) = {}'.format(ans1))\n",
    "print('mu + sigma * norm.rvs(size=1) = {}'.format(ans2))"
   ]
  },
  {
   "cell_type": "markdown",
   "metadata": {},
   "source": [
    "Either way, we end up generating a draw from the N (µ, σ2) distribution."
   ]
  },
  {
   "cell_type": "markdown",
   "metadata": {},
   "source": [
    "## Plots in Matplotlib\n",
    "\n",
    "Plotting in Python within a Jupyter notebook is done in [Matplotlib](https://matplotlib.org/). \n",
    "\n",
    "First, we import `matplotlib.pyplot` module. To cut down on typing, we can alias that imported `matplotlib.pyplot` module reference as `plt` for short. We then invoke the `%matplotlib inline%` Jupyter notebook magic command in order to create Matplotlib graphs right in your notebook."
   ]
  },
  {
   "cell_type": "code",
   "execution_count": 9,
   "metadata": {},
   "outputs": [],
   "source": [
    "import matplotlib.pyplot as plt\n",
    "\n",
    "%matplotlib inline"
   ]
  },
  {
   "cell_type": "markdown",
   "metadata": {},
   "source": [
    "Here is how we can create a plot of the standard Normal PDF from −3 to 3 using Matplotlib in Jupyter notebook.\n",
    "\n",
    "[`numpy.linspace`](https://docs.scipy.org/doc/numpy-1.15.0/reference/generated/numpy.linspace.html) creates an evenly-spaced numerical sequence, ranging from `start` to `stop`. The third function parameter `num` lets you specify how many numbers in the sequence to generate. \n",
    "\n",
    "We use `numpy.linspace(-3, 3, 1000)` to generate 1000 numbers ranging from -3 to 3 as our `x` values in the graph; with 1000 values in the sequence, the curve looks very smooth. If we were to choose `num=20`, the piecewise linearity would become very apparent."
   ]
  },
  {
   "cell_type": "code",
   "execution_count": 10,
   "metadata": {},
   "outputs": [],
   "source": [
    "x = np.linspace(-3, 3, 1000)"
   ]
  },
  {
   "cell_type": "markdown",
   "metadata": {},
   "source": [
    "We can then call `norm.pdf(x)` to generate the `y` values in the graph, and pass both the `x` and `y` values to [`matplotlib.pyplot.plot`](https://matplotlib.org/api/_as_gen/matplotlib.pyplot.plot.html). This will render a graph of $N(0,1)$ from -3 to 3. `pyplot.show` will display the graph."
   ]
  },
  {
   "cell_type": "code",
   "execution_count": 11,
   "metadata": {},
   "outputs": [
    {
     "data": {
      "image/png": "[encoded data removed]",
      "text/plain": [
       "<matplotlib.figure.Figure at 0x17ce96db630>"
      ]
     },
     "metadata": {},
     "output_type": "display_data"
    }
   ],
   "source": [
    "plt.plot(x, norm.pdf(x))\n",
    "plt.show()"
   ]
  },
  {
   "cell_type": "markdown",
   "metadata": {},
   "source": [
    "Alternately, we could \"freeze\" an instance of the `scipy.stats.norm` distribution object to fix the shape, location and scale parameters. This might be useful if you are working with multiple distributions with differing shape, location and scale, and wanted to use these distributions throughout your notebook."
   ]
  },
  {
   "cell_type": "code",
   "execution_count": 12,
   "metadata": {},
   "outputs": [
    {
     "data": {
      "image/png": "[encoded data removed]",
      "text/plain": [
       "<matplotlib.figure.Figure at 0x17ce9712908>"
      ]
     },
     "metadata": {},
     "output_type": "display_data"
    }
   ],
   "source": [
    "rv = norm()\n",
    "plt.plot(x, rv.pdf(x))\n",
    "\n",
    "plt.show()"
   ]
  },
  {
   "cell_type": "markdown",
   "metadata": {},
   "source": [
    "We can also set the axis labels and plot title with [`pyplot.xlabel`](https://matplotlib.org/api/_as_gen/matplotlib.pyplot.xlabel.html), [`pyplot.ylabel`](https://matplotlib.org/api/_as_gen/matplotlib.pyplot.ylabel.html), and [`pyplot.title`](https://matplotlib.org/api/_as_gen/matplotlib.pyplot.title.html) functions."
   ]
  },
  {
   "cell_type": "code",
   "execution_count": 13,
   "metadata": {},
   "outputs": [
    {
     "data": {
      "image/png": "[encoded data removed]",
      "text/plain": [
       "<matplotlib.figure.Figure at 0x17ce994d710>"
      ]
     },
     "metadata": {},
     "output_type": "display_data"
    }
   ],
   "source": [
    "plt.plot(x, rv.pdf(x))\n",
    "\n",
    "plt.xlabel('x')\n",
    "plt.ylabel('norm.pdf(x)')\n",
    "plt.title('Standard Normal PDF')\n",
    "\n",
    "plt.show()"
   ]
  },
  {
   "cell_type": "markdown",
   "metadata": {},
   "source": [
    "The axis limits can be set manually with [`pyplot.xlim`](https://matplotlib.org/api/_as_gen/matplotlib.pyplot.xlim.html) and [`pyplot.ylim`](https://matplotlib.org/api/_as_gen/matplotlib.pyplot.ylim.html) If, for example, you wanted the vertical axis to range from 0 to 1, you would follow the call to `pyplot.plot` with `pyplot.ylim([0, 1])`."
   ]
  },
  {
   "cell_type": "code",
   "execution_count": 14,
   "metadata": {},
   "outputs": [
    {
     "data": {
      "image/png": "[encoded data removed]",
      "text/plain": [
       "<matplotlib.figure.Figure at 0x17ce9921518>"
      ]
     },
     "metadata": {},
     "output_type": "display_data"
    }
   ],
   "source": [
    "plt.plot(x, rv.pdf(x))\n",
    "plt.ylim([0, 1])\n",
    "plt.show()"
   ]
  },
  {
   "cell_type": "markdown",
   "metadata": {},
   "source": [
    "Finally, to change the color of the plot, add `color=\"orange\"` or `color=\"green\"`, or whatever your favorite color is! (see [Specifying Colors](https://matplotlib.org/users/colors.html) in the Matplotlib documentation)"
   ]
  },
  {
   "cell_type": "code",
   "execution_count": 15,
   "metadata": {},
   "outputs": [
    {
     "data": {
      "text/plain": [
       "[<matplotlib.lines.Line2D at 0x17ce9b13be0>]"
      ]
     },
     "execution_count": 15,
     "metadata": {},
     "output_type": "execute_result"
    },
    {
     "data": {
      "image/png": "[encoded data removed]",
      "text/plain": [
       "<matplotlib.figure.Figure at 0x17ce7e62f60>"
      ]
     },
     "metadata": {},
     "output_type": "display_data"
    }
   ],
   "source": [
    "plt.plot(x, rv.pdf(x), color='orange')"
   ]
  },
  {
   "cell_type": "markdown",
   "metadata": {},
   "source": [
    "## Universality with Logistic\n",
    "\n",
    "We proved in Example 5.3.4 that for $U \\sim Unif(0, 1)$, the r.v. $log(U/(1 − U))$ follows a Logistic distribution. In SciPy and `uniform.rvs`, we can simply generate a large number of $Unif(0, 1)$ realizations and transform them."
   ]
  },
  {
   "cell_type": "raw",
   "metadata": {},
   "source": [
    "u <- runif(10^4)\n",
    "x <- log(u/(1-u))"
   ]
  },
  {
   "cell_type": "code",
   "execution_count": 16,
   "metadata": {},
   "outputs": [
    {
     "data": {
      "text/plain": [
       "array([ 2.0197625 , -0.72108035, -1.86938026, ..., -1.2638552 ,\n",
       "        1.8532956 ,  1.46624836])"
      ]
     },
     "execution_count": 16,
     "metadata": {},
     "output_type": "execute_result"
    }
   ],
   "source": [
    "u = uniform.rvs(size=10**4)\n",
    "x = np.log(u/(1-u))\n",
    "x"
   ]
  },
  {
   "cell_type": "markdown",
   "metadata": {},
   "source": [
    "Now `x` contains 10<sup>4</sup> realizations from the distribution of log(U/(1−U)). We can visualize them with a histogram, using [`matplotlib.hist`](https://matplotlib.org/api/_as_gen/matplotlib.pyplot.hist.html). The histogram resembles a Logistic PDF, which is reassuring. To control how fine-grained the histogram is, we can set the number of bins in the histogram via the `num_bins` parameter (the 2nd parameter passed into `pyplot.hist`: `hist(x, 100)` produces a finer histogram, while `hist(x, 10)` produces a coarser histogram.\n",
    "\n",
    "To illustrate, we will generate two graphs side-by-side with [`pyplot.figure`](https://matplotlib.org/api/_as_gen/matplotlib.pyplot.figure.html), and use a [`pyplot.subplot`](https://matplotlib.org/api/_as_gen/matplotlib.pyplot.subplot.html) for each graph."
   ]
  },
  {
   "cell_type": "code",
   "execution_count": 17,
   "metadata": {},
   "outputs": [
    {
     "data": {
      "image/png": "[encoded data removed]",
      "text/plain": [
       "<matplotlib.figure.Figure at 0x17ce98fb940>"
      ]
     },
     "metadata": {},
     "output_type": "display_data"
    }
   ],
   "source": [
    "fig = plt.figure(figsize=(14, 6))\n",
    "\n",
    "ax1 = fig.add_subplot(121)\n",
    "ax1.hist(x, 100)\n",
    "ax1.set_title('num_bins=100')\n",
    "\n",
    "ax2 = fig.add_subplot(122)\n",
    "ax2.hist(x, 10)\n",
    "ax2.set_title('num_bins=10')\n",
    "\n",
    "plt.show()"
   ]
  },
  {
   "cell_type": "markdown",
   "metadata": {},
   "source": [
    "## Poisson process simulation\n",
    "\n",
    "To simulate $n$ arrivals in a Poisson process with rate $\\lambda$, we first generate the interarrival times as i.i.d. Exponentials and store them in variable `x`:"
   ]
  },
  {
   "cell_type": "code",
   "execution_count": 18,
   "metadata": {},
   "outputs": [
    {
     "name": "stdout",
     "output_type": "stream",
     "text": [
      "[ 0.17627964  0.01902565  0.02146015  0.19802154  0.16173354  0.02476036\n",
      "  0.02394206  0.11207592  0.00051518  0.09787187  0.06122226  0.07313865\n",
      "  0.07720919  0.15936267  0.00195037  0.01965782  0.00122744  0.03186262\n",
      "  0.13671518  0.29913587  0.05325137  0.1329256   0.18825129  0.31339715\n",
      "  0.07390052  0.2792474   0.19905106  0.1237123   0.12739159  0.05063309\n",
      "  0.00787248  0.20327465  0.28319828  0.0039541   0.0084741   0.01842843\n",
      "  0.00354277  0.08189181  0.07338873  0.03824727  0.02011739  0.0211869\n",
      "  0.02824106  0.07150573  0.24463567  0.35755971  0.01220348  0.00555063\n",
      "  0.05732313  0.20553653]\n"
     ]
    }
   ],
   "source": [
    "n = 50\n",
    "lambd = 10\n",
    "x = expon.rvs(scale=1/lambd, size=n)\n",
    "print(x)"
   ]
  },
  {
   "cell_type": "markdown",
   "metadata": {},
   "source": [
    "Then we convert the interarrival times into arrival times using the [`numpy.cumsum`](https://docs.scipy.org/doc/numpy-1.15.0/reference/generated/numpy.cumsum.html) function, which stands for \"cumulative sum\"."
   ]
  },
  {
   "cell_type": "code",
   "execution_count": 19,
   "metadata": {},
   "outputs": [
    {
     "name": "stdout",
     "output_type": "stream",
     "text": [
      "[ 0.17627964  0.19530529  0.21676545  0.41478698  0.57652053  0.60128088\n",
      "  0.62522295  0.73729887  0.73781405  0.83568592  0.89690818  0.97004683\n",
      "  1.04725602  1.20661869  1.20856907  1.22822689  1.22945433  1.26131695\n",
      "  1.39803213  1.697168    1.75041936  1.88334496  2.07159625  2.38499339\n",
      "  2.45889391  2.73814132  2.93719238  3.06090468  3.18829627  3.23892936\n",
      "  3.24680184  3.4500765   3.73327478  3.73722888  3.74570298  3.76413141\n",
      "  3.76767418  3.849566    3.92295473  3.961202    3.98131938  4.00250628\n",
      "  4.03074735  4.10225307  4.34688874  4.70444845  4.71665193  4.72220256\n",
      "  4.77952569  4.98506222]\n"
     ]
    }
   ],
   "source": [
    "t = np.cumsum(x)\n",
    "print(t)"
   ]
  },
  {
   "cell_type": "markdown",
   "metadata": {},
   "source": [
    "The array `t` now contains all the simulated arrival times."
   ]
  },
  {
   "cell_type": "markdown",
   "metadata": {},
   "source": [
    "----\n",
    "\n",
    "&copy; Blitzstein, Joseph K.; Hwang, Jessica. Introduction to Probability (Chapman & Hall/CRC Texts in Statistical Science)."
   ]
  }
 ],
 "metadata": {
  "kernelspec": {
   "display_name": "Python 3",
   "language": "python",
   "name": "python3"
  },
  "language_info": {
   "codemirror_mode": {
    "name": "ipython",
    "version": 3
   },
   "file_extension": ".py",
   "mimetype": "text/x-python",
   "name": "python",
   "nbconvert_exporter": "python",
   "pygments_lexer": "ipython3",
   "version": "3.6.3"
  }
 },
 "nbformat": 4,
 "nbformat_minor": 2
}
