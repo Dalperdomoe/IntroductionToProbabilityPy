{
 "cells": [
  {
   "cell_type": "markdown",
   "metadata": {},
   "source": [
    "# Chapter 7: Joint Distributions\n",
    " \n",
    "This Jupyter notebook is the Python equivalent of the R code in section 7.7 R, pp. 318 - 320, [Introduction to Probability, 1st Edition](https://www.crcpress.com/Introduction-to-Probability/Blitzstein-Hwang/p/book/9781466575578), Blitzstein & Hwang.\n",
    "\n",
    "----"
   ]
  },
  {
   "cell_type": "code",
   "execution_count": 1,
   "metadata": {},
   "outputs": [],
   "source": [
    "import matplotlib.pyplot as plt\n",
    "import numpy as np\n",
    "\n",
    "%matplotlib inline"
   ]
  },
  {
   "cell_type": "markdown",
   "metadata": {},
   "source": [
    "## Multinomial\n",
    "\n",
    "The functions for the Multinomial distribution represented by [`scipy.stats.multinomial`](https://docs.scipy.org/doc/scipy/reference/generated/scipy.stats.multinomial.html) are `pmf` (which is the joint PMF of the Multinomial distribution) and `rvs` (which generates realizations of Multinomial random vectors). The joint CDF of the Multinomial is a pain to work with, so like R it is not built in `multinomial`.\n",
    "\n",
    "To use `pmf`, we have to input the value at which to evaluate the joint PMF, as well as the parameters of the distribution. For example,"
   ]
  },
  {
   "cell_type": "code",
   "execution_count": 2,
   "metadata": {},
   "outputs": [],
   "source": [
    "from scipy.stats import multinomial\n",
    "\n",
    "# to learn more about scipy.stats.multinomial, un-comment out the following line\n",
    "#print(multinomial.__doc__)"
   ]
  },
  {
   "cell_type": "code",
   "execution_count": 3,
   "metadata": {},
   "outputs": [
    {
     "name": "stdout",
     "output_type": "stream",
     "text": [
      "multinomial.pmf(x, n, p) = 0.041152263374485576\n"
     ]
    }
   ],
   "source": [
    "x = [2, 0, 3]\n",
    "n = 5\n",
    "p = [1/3, 1/3, 1/3]\n",
    "\n",
    "ans = multinomial.pmf(x, n, p)\n",
    "print('multinomial.pmf(x, n, p) = {}'.format(ans))"
   ]
  },
  {
   "cell_type": "markdown",
   "metadata": {},
   "source": [
    "returns the probability $P(X_1 = 2, \\, X_2 = 0, \\, X_3 = 3)$, where\n",
    "\n",
    "\\begin{align}\n",
    "  X = (X_1, \\, X_2, \\, X_3) \\sim Mult_3\\left(5, \\, (\\frac{1}{3}, \\frac{1}{3}, \\frac{1}{3})\\right)\n",
    "\\end{align}\n",
    "\n",
    "Of course, `n` has to equal `numpy.sum(x)`; if we attempted to do `multinomial.pmf(x, 7, p)`, the return value would simply be 0.0."
   ]
  },
  {
   "cell_type": "markdown",
   "metadata": {},
   "source": [
    "For `rvs`, the named function parameter `size` is the number of Multinomial random vectors to generate, and the other inputs are the same. When we ran `rvs(n, p, size=10)` with `n` and `p` as above, `multinomial` gave us the following matrix:"
   ]
  },
  {
   "cell_type": "code",
   "execution_count": 4,
   "metadata": {},
   "outputs": [
    {
     "name": "stdout",
     "output_type": "stream",
     "text": [
      "matrix of Multinomial random vectors has shape (10, 3)\n",
      "\n",
      "[[1 2 2]\n",
      " [1 3 1]\n",
      " [2 1 2]\n",
      " [1 3 1]\n",
      " [4 1 0]\n",
      " [1 2 2]\n",
      " [2 2 1]\n",
      " [1 2 2]\n",
      " [2 0 3]\n",
      " [2 3 0]]\n"
     ]
    }
   ],
   "source": [
    "# seed the random number generator\n",
    "np.random.seed(1234)\n",
    "\n",
    "rv_vector = multinomial.rvs(n, p, size=10)\n",
    "\n",
    "print('matrix of Multinomial random vectors has shape {}\\n'.format(rv_vector.shape))\n",
    "\n",
    "print(rv_vector)"
   ]
  },
  {
   "cell_type": "markdown",
   "metadata": {},
   "source": [
    "Each row of the matrix corresponds to a draw from the $Mult_3\\left(5, \\, (1/3, 1/3, 1/3)\\right)$ distribution. In particular, the sum of each row is 5."
   ]
  },
  {
   "cell_type": "markdown",
   "metadata": {},
   "source": [
    "## Multivariate Normal"
   ]
  },
  {
   "cell_type": "markdown",
   "metadata": {},
   "source": [
    "Functions for the Multivariate Normal distribution are located in the [`scipy.stats.multivariate_normal`](https://docs.scipy.org/doc/scipy/reference/generated/scipy.stats.multivariate_normal.html) module. As expected, `pdf` can be used for calculating the joint PDF, and `rvs` can be used for generating random vectors. For example, suppose that we want to generate 1000 independent Bivariate Normal pairs $(Z, W)$, with correlation $\\rho = 0.7$ and $N(0, 1)$ marginals. To do this, we can execute the following:"
   ]
  },
  {
   "cell_type": "code",
   "execution_count": 5,
   "metadata": {},
   "outputs": [],
   "source": [
    "from scipy.stats import multivariate_normal\n",
    "\n",
    "# to learn more about scipy.stats.multivariate_normal, un-comment out the following line\n",
    "#print(multivariate_normal.__doc__)"
   ]
  },
  {
   "cell_type": "code",
   "execution_count": 6,
   "metadata": {},
   "outputs": [
    {
     "name": "stdout",
     "output_type": "stream",
     "text": [
      "matrix r has shape: (1000, 2)\n"
     ]
    }
   ],
   "source": [
    "# seed the random number generator\n",
    "np.random.seed(4321)\n",
    "\n",
    "meanvector = [0, 0]\n",
    "rho = 0.7\n",
    "covmatrix = np.matrix([[1, rho],\n",
    "                       [rho, 1]])\n",
    "\n",
    "r = multivariate_normal.rvs(mean=meanvector, cov=covmatrix, size=10**3)\n",
    "print('matrix r has shape: {}'.format(r.shape))\n",
    "\n",
    "# take the 1st column of matrix r as Z\n",
    "Z = r[:, 0]\n",
    "\n",
    "# take the 2nd column of matrix r as W\n",
    "W = r[:, 1]"
   ]
  },
  {
   "cell_type": "markdown",
   "metadata": {},
   "source": [
    "The covariance matrix here is\n",
    "\n",
    "\\begin{align}\n",
    "  \\begin{pmatrix}\n",
    "    1 & \\rho \\\\\n",
    "    \\rho & 1\n",
    "  \\end{pmatrix}\n",
    "\\end{align}\n",
    "\n",
    "because\n",
    "\n",
    "* $Cov(Z, Z) = Var(Z) = 1$ (this is the upper left entry)\n",
    "* $Cov(W, W) = Var(W) = 1$ (this is the lower right entry)\n",
    "* $Cov(Z, W) = Corr(Z, W) \\, SD(Z) \\, SD(W) = \\rho$ (this is the other two entries).\n",
    "\n",
    "Now `r` is a 1000 $\\times$ 2 matrix, with each row a BVN random vector. To see these as points in the plane, we can use [`matplotlib.pyplot.scatter(Z, W)`](https://matplotlib.org/api/_as_gen/matplotlib.pyplot.scatter.html) to make a scatter plot, from which the strong positive correlation should be clear. To estimate the covariance of `Z` and `W`, we can use [`numpy.cov(Z, W)`](https://docs.scipy.org/doc/numpy/reference/generated/numpy.cov.html), which computes the true covariance matrix."
   ]
  },
  {
   "cell_type": "code",
   "execution_count": 7,
   "metadata": {},
   "outputs": [
    {
     "data": {
      "image/png": "[encoded data removed]",
      "text/plain": [
       "<matplotlib.figure.Figure at 0x19dcc0ac7f0>"
      ]
     },
     "metadata": {},
     "output_type": "display_data"
    }
   ],
   "source": [
    "plt.scatter(Z, W)\n",
    "\n",
    "plt.xlabel('Z')\n",
    "plt.ylabel('W')\n",
    "plt.title('BVN generation using multivariate_normal')\n",
    "\n",
    "plt.show()"
   ]
  },
  {
   "cell_type": "code",
   "execution_count": 8,
   "metadata": {},
   "outputs": [
    {
     "name": "stdout",
     "output_type": "stream",
     "text": [
      "estimated covariance of Z and W:\n",
      "[[ 0.99657514  0.65663763]\n",
      " [ 0.65663763  0.95921587]]\n"
     ]
    }
   ],
   "source": [
    "est_cov = np.cov(Z, W)\n",
    "print('estimated covariance of Z and W:\\n{}'.format(est_cov))"
   ]
  },
  {
   "cell_type": "markdown",
   "metadata": {},
   "source": [
    "Example 7.5.10 gives another approach to the BVN generation problem:"
   ]
  },
  {
   "cell_type": "code",
   "execution_count": 9,
   "metadata": {},
   "outputs": [],
   "source": [
    "from scipy.stats import norm\n",
    "\n",
    "# seed the random number generator\n",
    "np.random.seed(888)\n",
    "\n",
    "rho = 0.7\n",
    "tau = np.sqrt(1 - rho**2)\n",
    "x = norm.rvs(size=10**3)\n",
    "y = norm.rvs(size=10**3)\n",
    "z = x\n",
    "w = rho*x + tau*y"
   ]
  },
  {
   "cell_type": "markdown",
   "metadata": {},
   "source": [
    "This gives the Z-coordinates in an array `z` and the W-coordinates in an array `w`. If we want to put them into one 1000 $\\times$ 2 matrix as we had above, we can use [`numpy.stack([z, w], axis=1)`](https://docs.scipy.org/doc/numpy/reference/generated/numpy.stack.html) to bind the arrays together as columns."
   ]
  },
  {
   "cell_type": "code",
   "execution_count": 10,
   "metadata": {},
   "outputs": [
    {
     "name": "stdout",
     "output_type": "stream",
     "text": [
      "matrix r2 has shape: (1000, 2)\n"
     ]
    }
   ],
   "source": [
    "# bind z and w into a 1000 x 2 matrix\n",
    "r2 = np.stack([z, w], axis=1)\n",
    "print('matrix r2 has shape: {}'.format(r2.shape))"
   ]
  },
  {
   "cell_type": "markdown",
   "metadata": {},
   "source": [
    "Let's create another scatter plot now with `z` and `w`, and also check their estimated covariance."
   ]
  },
  {
   "cell_type": "code",
   "execution_count": 11,
   "metadata": {},
   "outputs": [
    {
     "data": {
      "image/png": "[encoded data removed]",
      "text/plain": [
       "<matplotlib.figure.Figure at 0x19dcc0ac780>"
      ]
     },
     "metadata": {},
     "output_type": "display_data"
    }
   ],
   "source": [
    "plt.scatter(z, w)\n",
    "\n",
    "plt.xlabel('z')\n",
    "plt.ylabel('w')\n",
    "plt.title('BVN generation via Example 7.5.10')\n",
    "\n",
    "plt.show()"
   ]
  },
  {
   "cell_type": "code",
   "execution_count": 12,
   "metadata": {},
   "outputs": [
    {
     "name": "stdout",
     "output_type": "stream",
     "text": [
      "estimated covariance of z and w:\n",
      "[[ 0.96557232  0.6851627 ]\n",
      " [ 0.6851627   0.99864446]]\n"
     ]
    }
   ],
   "source": [
    "est_cov2 = np.cov(z, w)\n",
    "print('estimated covariance of z and w:\\n{}'.format(est_cov2))"
   ]
  },
  {
   "cell_type": "markdown",
   "metadata": {},
   "source": [
    "## Cauchy\n",
    "\n",
    "We can work with the Cauchy distribution introduced in Example 7.1.24 using the three functions `pdf`, `cdf`, and `rvs` in [`scipy.stats.cauchy`](https://docs.scipy.org/doc/scipy/reference/generated/scipy.stats.cauchy.html). To shift and/or scale the distribution use the `loc` and `scale` parameters. Specifically, `cauchy.pdf(x, loc, scale)` is identically equivalent to `cauchy.pdf(y) / scale` with `y = (x - loc) / scale`."
   ]
  },
  {
   "cell_type": "code",
   "execution_count": 13,
   "metadata": {},
   "outputs": [],
   "source": [
    "from scipy.stats import cauchy\n",
    "\n",
    "# to learn more about scipy.stats.cauchy, un-comment out the following line\n",
    "#print(cauchy.__doc__)"
   ]
  },
  {
   "cell_type": "markdown",
   "metadata": {},
   "source": [
    "For an amusing demonstration of the very heavy tails of the Cauchy distribution, try creating a histogram of 1000 simulated values of the Cauchy distribution:"
   ]
  },
  {
   "cell_type": "code",
   "execution_count": 14,
   "metadata": {},
   "outputs": [
    {
     "data": {
      "image/png": "[encoded data removed]",
      "text/plain": [
       "<matplotlib.figure.Figure at 0x19dcc2c29b0>"
      ]
     },
     "metadata": {},
     "output_type": "display_data"
    }
   ],
   "source": [
    "fig = plt.figure(figsize=(14, 6))\n",
    "\n",
    "# seed the random number generator\n",
    "np.random.seed(111)\n",
    "\n",
    "# create frozen instance of a cauchy distribution\n",
    "cauch = cauchy()\n",
    "\n",
    "# generate 1000 random simulated values from cauchy\n",
    "rv = cauch.rvs(size=1000)\n",
    "\n",
    "ax1 = fig.add_subplot(121)\n",
    "ax1.hist(rv)\n",
    "ax1.set_title('Cauchy RVS histogram')\n",
    "\n",
    "# create a sequqnce of 1000 values from -100 to 100 for x\n",
    "x = np.linspace(-100, 100, 1000)\n",
    "# obtain corresponding cauchy PDF values for y\n",
    "y = cauch.pdf(x)\n",
    "\n",
    "ax2 = fig.add_subplot(122)\n",
    "ax2.plot(x, y, lw=3, alpha=0.6, label='cauchy pdf')\n",
    "ax2.set_ylim([0.0, 0.35])\n",
    "ax2.set_title('Cauchy PDF')\n",
    "\n",
    "plt.show()"
   ]
  },
  {
   "cell_type": "markdown",
   "metadata": {},
   "source": [
    "Due to extreme values in the tails of the distribution, this histogram looks nothing like the PDF of the distribution from which it was generated."
   ]
  },
  {
   "cell_type": "markdown",
   "metadata": {},
   "source": [
    "----\n",
    "\n",
    "&copy; Blitzstein, Joseph K.; Hwang, Jessica. Introduction to Probability (Chapman & Hall/CRC Texts in Statistical Science)."
   ]
  }
 ],
 "metadata": {
  "kernelspec": {
   "display_name": "Python 3",
   "language": "python",
   "name": "python3"
  },
  "language_info": {
   "codemirror_mode": {
    "name": "ipython",
    "version": 3
   },
   "file_extension": ".py",
   "mimetype": "text/x-python",
   "name": "python",
   "nbconvert_exporter": "python",
   "pygments_lexer": "ipython3",
   "version": "3.6.3"
  }
 },
 "nbformat": 4,
 "nbformat_minor": 2
}
