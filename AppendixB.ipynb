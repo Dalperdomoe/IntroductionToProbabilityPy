{
 "cells": [
  {
   "cell_type": "markdown",
   "metadata": {},
   "source": [
    "# B\n",
    " \n",
    "This Jupyter notebook is the Python equivalent of the R code in appendix B, R, pp. 561 - 565, [Introduction to Probability, 1st Edition](https://www.crcpress.com/Introduction-to-Probability/Blitzstein-Hwang/p/book/9781466575578), Blitzstein & Hwang.\n",
    "\n",
    "----"
   ]
  },
  {
   "cell_type": "markdown",
   "metadata": {},
   "source": [
    "## B.1 Vectors\n",
    "\n",
    "Rather than using the usual Python list (array), for probability and statistics it is more convenient to use a [NumPy](https://docs.scipy.org/doc/numpy/user/basics.creation.html) array. The rules for operating on NumPy arrays of different shape are quite different from vectors in R (please see [Broadcasting](https://docs.scipy.org/doc/numpy-1.15.0/user/basics.broadcasting.html)).\n",
    "\n",
    "The [`scipy.stats`](https://docs.scipy.org/doc/scipy/reference/stats.html) module contains a large number of probability distributions as well as a growing library of statistical functions.\n",
    "\n",
    "\n",
    "\n",
    "| Command | What it does |\n",
    "|---------|--------------|\n",
    "| [$\\mathtt{numpy.array([1, 1, 0, 2.7, 3.1])}$](https://docs.scipy.org/doc/numpy-1.15.0/reference/generated/numpy.array.html) | creates the array [1, 1, 0, 2.7, 3.1] |\n",
    "| [$\\mathtt{numpy.arange(1, 101)}$](https://docs.scipy.org/doc/numpy-1.15.0/reference/generated/numpy.arange.html) | creates the array [1, 2, ..., 100] |\n",
    "| [$\\mathtt{numpy.arange(1, 100)**3}$](https://docs.scipy.org/doc/numpy-1.15.0/user/basics.broadcasting.html#general-broadcasting-rules) | creates the array [1<sup>3</sup>, 2<sup>3</sup>, ..., 100<sup>3</sup>] |\n",
    "| [$\\mathtt{numpy.zeros(50)}$](https://docs.scipy.org/doc/numpy-1.15.0/reference/generated/numpy.zeros.html) | creates the array [0, 0,..., 0] of length 50 |\n",
    "| $\\mathtt{numpy.arange(0, 100, 3)}$ | creates the array [0, 3, 6, 9, ..., 99] |\n",
    "| [$\\mathtt{v[4]}$](https://docs.scipy.org/doc/numpy-1.15.1/reference/arrays.indexing.html#integer-array-indexing) | 5<sup>th</sup> entry of vector $\\mathtt{v}$ (index starts at 0) |\n",
    "| [$\\mathtt{v[[True, True, True, True, False, True, ... , True]]}$](https://docs.scipy.org/doc/numpy-1.15.1/reference/arrays.indexing.html#boolean-array-indexing) | all but the 5<sup>th</sup> entry of $\\mathtt{v}$ |\n",
    "| $\\mathtt{v[[2, 0, 3]]}$ | 3<sup>rd</sup>, 1<sup>st</sup>, 4<sup>th</sup> entries of array $\\mathtt{v}$ |\n",
    "| $\\mathtt{v[v>2]}$ | entries of $\\mathtt{v}$ that exceed 2 |\n",
    "| [$\\mathtt{numpy.where(v > 2)}$](https://docs.scipy.org/doc/numpy-1.15.0/reference/generated/numpy.where.html) | indices of $\\mathtt{v}$ such that entry exceeds 2 |\n",
    "| $\\mathtt{numpy.where(v == 7)}$ | indices of $\\mathtt{v}$ such that entry equals 7 |\n",
    "| [$\\mathtt{v.min()}$](https://docs.scipy.org/doc/numpy-1.15.0/reference/generated/numpy.ndarray.min.html) | minimum of $\\mathtt{v}$ |\n",
    "| [$\\mathtt{v.max()}$](https://docs.scipy.org/doc/numpy-1.15.0/reference/generated/numpy.ndarray.max.html) | maximum of $\\mathtt{v}$ |\n",
    "| $\\mathtt{numpy.where(v==v.max())}$ | indices where $\\mathtt{v.max()}$ is achieved |\n",
    "| [$\\mathtt{v.sum()}$](https://docs.scipy.org/doc/numpy-1.15.0/reference/generated/numpy.ndarray.sum.html) | sum of the entries in $\\mathtt{v}$ |\n",
    "| [$\\mathtt{v.cumsum()}$](https://docs.scipy.org/doc/numpy-1.15.0/reference/generated/numpy.ndarray.cumsum.html) | cumulative sums of the entries in $\\mathtt{v}$ |\n",
    "| [$\\mathtt{v.prod()}$](https://docs.scipy.org/doc/numpy-1.15.0/reference/generated/numpy.ndarray.prod.html) | product of the entries in $\\mathtt{v}$ |\n",
    "| [$\\mathtt{scipy.stats.rankdata(v)}$](https://docs.scipy.org/doc/scipy/reference/generated/scipy.stats.rankdata.html) | ranks of the entries in $\\mathtt{v}$ |\n",
    "| [$\\mathtt{v.size}$](https://docs.scipy.org/doc/numpy-1.15.0/reference/generated/numpy.ndarray.size.html) | number of elements in array $\\mathtt{v}$ |\n",
    "| [$\\mathtt{numpy.sort(v)}$](https://docs.scipy.org/doc/numpy-1.15.0/reference/generated/numpy.sort.html) | return a sorted copy of array $\\mathtt{v}$ (in increasing order) |\n",
    "| [$\\mathtt{numpy.unique(v)}$](https://docs.scipy.org/doc/numpy-1.15.0/reference/generated/numpy.unique.html) | lists each element of $\\mathtt{v}$ once, without duplicates |\n",
    "| $\\mathtt{numpy.unique(v, return}\\_\\mathtt{counts=True)}$ | tallies how many times each element of $\\mathtt{v}$ occurs |\n",
    "| $\\mathtt{dict(zip( *numpy.unique(v, return}\\_\\mathtt{counts=True)))}$ | return mapping of array $\\mathtt{v}$ element keys and frequency values |\n",
    "| [$\\mathtt{numpy.hstack([v, w])}$](https://docs.scipy.org/doc/numpy-1.15.0/reference/generated/numpy.hstack.html) | concatenates vectors $\\mathtt{v}$ and $\\mathtt{w}$ |\n",
    "| [$\\mathtt{numpy.union1d(v, w)}$](https://docs.scipy.org/doc/numpy-1.15.0/reference/generated/numpy.union1d.html) | union of $\\mathtt{v}$ and $\\mathtt{w}$ as sets |\n",
    "| [$\\mathtt{numpy.intersect1d(v, w)}$](https://docs.scipy.org/doc/numpy-1.15.0/reference/generated/numpy.intersect1d.html) | intersection of $\\mathtt{v}$ and $\\mathtt{w}$ as sets |\n",
    "| $\\mathtt{v + w}$ | adds $\\mathtt{v}$ and $\\mathtt{w}$ entrywise, <b>if w is a scalar</b> (see [Broadcasting](https://docs.scipy.org/doc/numpy-1.15.0/user/basics.broadcasting.html)) |\n",
    "| $\\mathtt{v * w}$ | multiplies $\\mathtt{v}$ and $\\mathtt{w}$ entrywise, <b>if w is a scalar</b> (see [Broadcasting](https://docs.scipy.org/doc/numpy-1.15.0/user/basics.broadcasting.html)) |"
   ]
  },
  {
   "cell_type": "markdown",
   "metadata": {},
   "source": [
    "## B.2 Matrices\n",
    "\n",
    "\n",
    "From [Linear Algebra (scipy.linalg)](https://docs.scipy.org/doc/scipy/reference/tutorial/linalg.html) page at SciPy.org:\n",
    "* The use of the [`numpy.matrix`](https://docs.scipy.org/doc/numpy-1.15.1/reference/generated/numpy.matrix.html) class is discouraged, since it adds nothing that cannot be accomplished with 2D [`numpy.ndarray`](https://docs.scipy.org/doc/numpy-1.15.0/reference/arrays.ndarray.html) objects.\n",
    "* [`scipy.linalg`](https://docs.scipy.org/doc/scipy/reference/linalg.html) contains all the functions in [`numpy.linalg`](https://docs.scipy.org/doc/numpy-1.15.1/reference/routines.linalg.html), plus some other more advanced ones... Another advantage of using `scipy.linalg` over `numpy.linalg` is that it is always compiled with BLAS/LAPACK support... Therefore, unless you don't want to add scipy as a dependency to your numpy program, _use `scipy.linalg` instead of `numpy.linalg`_\n",
    "\n",
    "Therefore, these notebooks will use `numpy.ndarray` for matrices, and use `scipy.linalg` for its linear algebra functionality.\n",
    "\n",
    "\n",
    "| Command | What it does |\n",
    "|---------|--------------|\n",
    "| $\\mathtt{numpy.array([[1,5], \\, [3,7]])}$ | creates the matrix $\\begin{pmatrix} 1 & 5 \\\\ 3 & 7 \\end{pmatrix}$ |\n",
    "| [$\\mathtt{A.shape}$](https://docs.scipy.org/doc/numpy-1.15.0/reference/generated/numpy.ndarray.shape.html) | gives the dimensions of matrix $\\mathtt{A}$ |\n",
    "| [$\\mathtt{numpy.diag(A)}$](https://docs.scipy.org/doc/numpy-1.15.0/reference/generated/numpy.diag.html) | extracts the diagonal of matrix $\\mathtt{A}$ |\n",
    "| $\\mathtt{numpy.diag([1, 7])}$ | creates the diagonal matrix $\\begin{pmatrix} 1 & 0 \\\\ 0 & 7 \\end{pmatrix}$ |\n",
    "| [$\\mathtt{numpy.stack([u, v, w])}$](https://docs.scipy.org/doc/numpy-1.15.0/reference/generated/numpy.stack.html) | binds arrays $\\mathtt{u}$, $\\mathtt{v}$, $\\mathtt{w}$ into a matrix, as rows |\n",
    "| [$\\mathtt{numpy.column}\\_\\mathtt{stack([u, v, w])}$](https://docs.scipy.org/doc/numpy-1.15.0/reference/generated/numpy.column_stack.html) | binds arrays $\\mathtt{u}$, $\\mathtt{v}$, $\\mathtt{w}$ into a matrix, as columns |\n",
    "| [$\\mathtt{A.T}$](https://docs.scipy.org/doc/numpy-1.15.0/reference/generated/numpy.ndarray.T.html#numpy.ndarray.T) | transpose of matrix $\\mathtt{A}$ |\n",
    "| [$\\mathtt{A[1,2]}$](https://docs.scipy.org/doc/numpy-1.13.0/reference/arrays.ndarray.html#indexing-arrays) | row 2, column 3 entry of matrix $\\mathtt{A}$ |\n",
    "| $\\mathtt{A[1, :]}$ | row 2 of matrix $\\mathtt{A}$ (as a vector) |\n",
    "| $\\mathtt{A[:, 2]}$ | column 3 of matrix $\\mathtt{A}$ (as a vector) |\n",
    "| $\\mathtt{A[[[0,2],:] \\, [:,[1,3]]]}$ | submatrix of A, keeping rows 1, 3 and columns 2, 4 |\n",
    "| $\\mathtt{A.sum(axis=1)}$ | row sums of matrix $\\mathtt{A}$ |\n",
    "| $\\mathtt{A.mean(axis=1)}$ | row averages of matrix $\\mathtt{A}$ |\n",
    "| $\\mathtt{A.sum(axis=0)}$ | column sums of matrix $\\mathtt{A}$ |\n",
    "| $\\mathtt{A.mean(axis=0)}$ | column averages of matrix $\\mathtt{A}$ |\n",
    "| [$\\mathtt{scipy.linalg.eig(A)}$](https://docs.scipy.org/doc/scipy/reference/generated/scipy.linalg.eig.html#scipy.linalg.eig) | eigenvalues and eigenvectors of matrix $\\mathtt{A}$ |\n",
    "| [$\\mathtt{scipy.linalg.inv(A)}$](https://docs.scipy.org/doc/scipy/reference/generated/scipy.linalg.inv.html) | matrix $\\mathtt{A}$<sup>−1</sup>  |\n",
    "| [$\\mathtt{scipy.linalg.solve(A,b)}$](https://docs.scipy.org/doc/scipy-1.2.0/reference/generated/scipy.linalg.solve.html) | solves Ax = b for x (where b is a column vector)  |\n",
    "| [$\\mathtt{A \\, @ \\, B}$](https://www.python.org/dev/peps/pep-0465/) | matrix multiplication AB |\n",
    "| [$\\mathtt{scipy.linalg.fractional}$\\_$\\mathtt{matrix}$\\_$\\mathtt{power(A, k)}$](https://docs.scipy.org/doc/scipy/reference/generated/scipy.linalg.fractional_matrix_power.html#scipy.linalg.fractional_matrix_power) | matrix power A<sup>k</sup> |"
   ]
  },
  {
   "cell_type": "markdown",
   "metadata": {},
   "source": [
    "## B.3 Math\n",
    "\n",
    "* NumPy has many convenient [mathematical functions](https://docs.scipy.org/doc/numpy-1.13.0/reference/routines.math.html), which are geared for operations on scalars, vectors and matrices.\n",
    "* SciPy also offers functions similar to NumPy, but the SciPy submodules are more extensive, and, depending upon your Python distribution, may also already be optimized to take advantage of the Intel Math Kernel Library, LAPACK, and BLAS.\n",
    "* Thus, unless you have clear reasons for not using SciPy, we suggest you use the `scipy` submodules whenever possible.\n",
    "* Note that while many of these functions are provided in the [`math`](https://docs.python.org/3/library/math.html) standard Python module, the NumPy and SciPy functions below work out of the box on scalar values as well as vectors.  \n",
    "\n",
    "\n",
    "| Command | What it does |\n",
    "|---------|--------------|\n",
    "| [$\\mathtt{numpy.abs(x)}$](https://docs.scipy.org/doc/numpy-1.15.1/reference/generated/numpy.absolute.html) | $\\lvert x \\rvert$ |\n",
    "| [$\\mathtt{numpy.exp(x)}$](https://docs.scipy.org/doc/numpy/reference/generated/numpy.exp.html) | $e^x$ |\n",
    "| [$\\mathtt{numpy.log(x)}$](https://docs.scipy.org/doc/numpy-1.15.0/reference/generated/numpy.log.html) | $log(n)$ |\n",
    "| $\\mathtt{numpy.log(x) \\, / \\, numpy.log(b)}$ | $log_{b}(n)$ |\n",
    "| [$\\mathtt{numpy.sqrt(x)}$](https://docs.scipy.org/doc/numpy-1.15.0/reference/generated/numpy.sqrt.html) | $\\sqrt{x}$ |\n",
    "| [$\\mathtt{numpy.floor(x)}$](https://docs.scipy.org/doc/numpy-1.15.1/reference/generated/numpy.floor.html) | $\\lfloor x \\rfloor$ |\n",
    "| [$\\mathtt{numpy.ceil(x)}$](https://docs.scipy.org/doc/numpy-1.15.0/reference/generated/numpy.ceil.html) | $\\lceil x \\rceil$ |\n",
    "| [$\\mathtt{scipy.special.factorial(n)}$](https://docs.scipy.org/doc/scipy/reference/generated/scipy.special.factorial.html) | $n!$ |\n",
    "| [$\\mathtt{scipy.special.gammaln(n + 1)}$](https://docs.scipy.org/doc/scipy-0.19.0/reference/generated/scipy.special.gammaln.html) | $log(n!)$ (helps prevent overflow) |\n",
    "| [$\\mathtt{scipy.special.gamma(a)}$](https://docs.scipy.org/doc/scipy/reference/generated/scipy.special.gamma.html) | $\\Gamma(a)$ |\n",
    "| $\\mathtt{scipy.special.gammaln(a)}$ | $log(\\Gamma(a))$ (helps prevent overflow) |\n",
    "| [$\\mathtt{scipy.special.comb(n, \\, k)}$](https://docs.scipy.org/doc/scipy-0.15.0/reference/generated/scipy.special.comb.html#scipy.special.comb) | binomial coefficient $\\binom{n}{k}$ |\n",
    "| $\\mathtt{pbirthday(k)}$ | (see Birthday problem calculation and simulation, Ch1.ipynb) |\n",
    "| $\\mathtt{x**2 \\, if \\,\\, x \\, > \\, 0 \\, else \\,\\, x**3}$ | $x^2$ if $x > 0$, $x^3$ otherwise (piecewise) |\n",
    "| $\\mathtt{def \\,\\, f(x): \\, exp(-x)}$ | defines the function $f$ by $f(x) = e^x$ |\n",
    "| [$\\mathtt{scipy.integrate.quad(f, a, b)}$](https://docs.scipy.org/doc/scipy/reference/generated/scipy.integrate.quad.html) | finds $\\int_{a}^{b} f(x) \\, dx$ numerically |\n",
    "| [$\\mathtt{scipy.optimize.fminbound(f, a, b)}$](https://docs.scipy.org/doc/scipy/reference/generated/scipy.optimize.fminbound.html) | _minimizes_ $f$ numerically on [a, b] |\n",
    "| [$\\mathtt{scipy.optimize.fminbound(lambda \\,\\, x: -f(x), a, b)}$](https://docs.scipy.org/doc/scipy/reference/generated/scipy.optimize.fminbound.html) | _maximizes_ $f$ numerically on [a, b] |\n",
    "| [$\\mathtt{scipy.optimize.root(f, \\, x0=\\frac{a+b}{2})}$](https://docs.scipy.org/doc/scipy/reference/generated/scipy.optimize.root.html) | searches numerically for a zero of $f$ in $[a, b]$ |\n"
   ]
  },
  {
   "cell_type": "markdown",
   "metadata": {},
   "source": [
    "## B.4 Sampling and simulation\n",
    "\n",
    "\n",
    "| Command | What it does |\n",
    "|---------|--------------|\n",
    "| sample(7) | random permutation of 1, 2,..., 7 |\n",
    "| sample(52,5) | picks 5 times from 1, 2,..., 52 (don’t replace) |\n",
    "| sample(letters,5) | picks 5 random letters of the alphabet (don’t replace) |\n",
    "| sample(3,5,replace=TRUE,prob=p) | picks 5 times from 1, 2, 3 with probabilities p (replace) |\n",
    "| replicate(10^4,experiment) | simulates 104 runs of experiment|"
   ]
  },
  {
   "cell_type": "markdown",
   "metadata": {},
   "source": [
    "## B.5 Plotting\n",
    "\n",
    "\n",
    "| Command | What it does |\n",
    "|---------|--------------|\n",
    "| curve(f, from=a, to=b) | graphs the function f from a to b |\n",
    "| plot(x,y) | creates scatter plot of the points $(x_i, \\, y_i)$ |\n",
    "| plot(x,y,type=\"l\") | creates line plot of the points $(x_i, \\, y_i)$ |\n",
    "| points(x,y) | adds the points $(x_i, \\, y_i)$ to the plot |\n",
    "| lines(x,y) | adds line segments through the $(x_i, \\, y_i)$ to the plot |\n",
    "| abline(a,b) | adds the line with intercept a, slope b to the plot |\n",
    "| hist(x, breaks=b, col=\"blue\") | blue histogram of the values in x, with b bins suggested |\n",
    "| par(new=TRUE) | tells R not to clear the palette when we make our next plot |\n",
    "| par(mfrow=c(1,2)) | tells R we want 2 side-by-side plots (a 1 by 2 array of plots) |"
   ]
  },
  {
   "cell_type": "markdown",
   "metadata": {},
   "source": [
    "## B.6 Programming"
   ]
  },
  {
   "cell_type": "markdown",
   "metadata": {},
   "source": [
    "## B.7 Summary statistics"
   ]
  },
  {
   "cell_type": "markdown",
   "metadata": {},
   "source": [
    "## B.8 Distributions\n",
    "\n",
    "| Command | What it does |\n",
    "|---------|--------------|\n",
    "| help(distributions) | shows documentation on distributions |\n",
    "| dbinom(k,n,p) | PMF P(X = k) for X ∼ Bin(n, p) |\n",
    "| pbinom(x,n,p) | CDF P(X ≤ x) for X ∼ Bin(n, p) |\n",
    "| qbinom(a,n,p) | quantile min{x: P(X ≤ x) ≥ a} for X ∼ Bin(n, p) |\n",
    "| rbinom(r,n,p) | vector of r i.i.d. Bin(n, p) r.v.s |\n",
    "| dgeom(k,p) | PMF P(X = k) for X ∼ Geom(p) |\n",
    "| dhyper(k,w,b,n) | PMF P(X = k) for X ∼ HGeom(w, b, n) |\n",
    "| dnbinom(k,r,p) | PMF P(X = k) for X ∼ NBin(r, p) |\n",
    "| dpois(k,r) | PMF P(X = k) for X ∼ Pois(r) |\n",
    "| dbeta(x,a,b) | PDF f(x) for X ∼ Beta(a, b) |\n",
    "| dcauchy(x) | PDF f(x) for X ∼ Cauchy |\n",
    "| dchisq(x,n) | PDF f(x) for X ∼ χ 2 n |\n",
    "| dexp(x,b) | PDF f(x) for X ∼ Expo(b) |\n",
    "| dgamma(x,a,r) | PDF f(x) for X ∼ Gamma(a, r) |\n",
    "| dlnorm(x,m,s) | PDF f(x) for X ∼ LN (m, s2) |\n",
    "| dnorm(x,m,s) | PDF f(x) for X ∼ N (m, s2) |\n",
    "| dt(x,n) | PDF f(x) for X ∼ tn |\n",
    "| dunif(x,a,b) | PDF f(x) for X ∼ Unif(a, b) |\n",
    "\n",
    "----\n",
    "\n",
    "There are commands that are completely analogous to pbinom, qbinom, and rbinom for the other distributions appearing in the above table. For example, pnorm, qnorm, and rnorm can be used to get the CDF, the quantiles, and random generation for the Normal (note that the mean and standard deviation need to be provided as the parameters, rather than the mean and variance).\n",
    "\n",
    "For the Multinomial, dmultinom can be used for calculating the joint PMF and rmultinom can be used for generating random vectors. For the Multivariate Normal, after installing and loading the mvtnorm package dmvnorm can be used for calculating the joint PDF and rmvnorm can be used for generating random vectors."
   ]
  },
  {
   "cell_type": "markdown",
   "metadata": {},
   "source": [
    "----\n",
    "\n",
    "&copy; Blitzstein, Joseph K.; Hwang, Jessica. Introduction to Probability (Chapman & Hall/CRC Texts in Statistical Science)."
   ]
  }
 ],
 "metadata": {
  "kernelspec": {
   "display_name": "Python 3",
   "language": "python",
   "name": "python3"
  },
  "language_info": {
   "codemirror_mode": {
    "name": "ipython",
    "version": 3
   },
   "file_extension": ".py",
   "mimetype": "text/x-python",
   "name": "python",
   "nbconvert_exporter": "python",
   "pygments_lexer": "ipython3",
   "version": "3.6.3"
  }
 },
 "nbformat": 4,
 "nbformat_minor": 2
}
